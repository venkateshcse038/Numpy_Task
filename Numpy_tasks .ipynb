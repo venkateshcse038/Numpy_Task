{
  "cells": [
    {
      "cell_type": "markdown",
      "metadata": {
        "id": "v_NxwfWjT9y3"
      },
      "source": [
        "# Numpy\n",
        "\n"
      ]
    },
    {
      "cell_type": "markdown",
      "metadata": {
        "id": "h5KPoCd8T9y6"
      },
      "source": [
        "#### 1. Import the numpy package under the name `np` (★☆☆) \n",
        "(**hint**: import … as …)"
      ]
    },
    {
      "cell_type": "code",
      "execution_count": null,
      "metadata": {
        "collapsed": true,
        "id": "0rEX2ZJUT9y6"
      },
      "outputs": [],
      "source": [
        "import numpy as np"
      ]
    },
    {
      "cell_type": "markdown",
      "metadata": {
        "id": "FhCu7HnmT9y7"
      },
      "source": [
        "#### 2. Print the numpy version and the configuration (★☆☆) \n",
        "(**hint**: np.\\_\\_version\\_\\_, np.show\\_config)"
      ]
    },
    {
      "cell_type": "code",
      "execution_count": null,
      "metadata": {
        "id": "P4HW_jV7T9y8",
        "outputId": "dd9b86d8-522c-45b7-e84d-ebf7db0f3254",
        "colab": {
          "base_uri": "https://localhost:8080/"
        }
      },
      "outputs": [
        {
          "output_type": "stream",
          "name": "stdout",
          "text": [
            "1.21.6\n",
            "<function show at 0x7f44bc6cc440>\n"
          ]
        }
      ],
      "source": [
        "print(np.__version__)\n",
        "print(np.show_config)"
      ]
    },
    {
      "cell_type": "markdown",
      "metadata": {
        "id": "od_OFWw6T9y8"
      },
      "source": [
        "#### 3. Create a null vector of size 10 (★☆☆) \n",
        "(**hint**: np.zeros)"
      ]
    },
    {
      "cell_type": "code",
      "execution_count": null,
      "metadata": {
        "id": "EsAaec5nT9y8",
        "colab": {
          "base_uri": "https://localhost:8080/"
        },
        "outputId": "57a24944-71a8-4086-cf1c-60ea914d644b"
      },
      "outputs": [
        {
          "output_type": "stream",
          "name": "stdout",
          "text": [
            "[0. 0. 0. 0. 0. 0. 0. 0. 0. 0.]\n"
          ]
        }
      ],
      "source": [
        "import numpy as np\n",
        "\n",
        "a = np.zeros(10)\n",
        "print(a)"
      ]
    },
    {
      "cell_type": "markdown",
      "metadata": {
        "id": "RvAUaC0mT9y9"
      },
      "source": [
        "#### 4.  How to find the memory size of any array (★☆☆) \n",
        "(**hint**: size, itemsize)"
      ]
    },
    {
      "cell_type": "code",
      "execution_count": null,
      "metadata": {
        "id": "8XdU5NHWT9y9",
        "colab": {
          "base_uri": "https://localhost:8080/"
        },
        "outputId": "784f9358-f134-4e6f-ceb7-66131015eeca"
      },
      "outputs": [
        {
          "output_type": "stream",
          "name": "stdout",
          "text": [
            "16\n",
            "8\n"
          ]
        },
        {
          "output_type": "execute_result",
          "data": {
            "text/plain": [
              "array([[0., 0., 0., 0.],\n",
              "       [0., 0., 0., 0.],\n",
              "       [0., 0., 0., 0.],\n",
              "       [0., 0., 0., 0.]])"
            ]
          },
          "metadata": {},
          "execution_count": 4
        }
      ],
      "source": [
        "import numpy as np\n",
        "arr = np.zeros((4,4))\n",
        "print(arr.size)\n",
        "print(arr.itemsize)\n",
        "arr"
      ]
    },
    {
      "cell_type": "markdown",
      "metadata": {
        "id": "WNnUEL3dT9y-"
      },
      "source": [
        "#### 5.  How to get the documentation of the numpy add function from the command line? (★☆☆) \n",
        "(**hint**: np.info)"
      ]
    },
    {
      "cell_type": "code",
      "execution_count": null,
      "metadata": {
        "collapsed": true,
        "id": "R3ZOwJ6vT9y-",
        "colab": {
          "base_uri": "https://localhost:8080/"
        },
        "outputId": "f4dbe4a7-2630-4104-993a-60c364e37c13"
      },
      "outputs": [
        {
          "output_type": "stream",
          "name": "stdout",
          "text": [
            "Help on ufunc object:\n",
            "\n",
            "add = class ufunc(builtins.object)\n",
            " |  Functions that operate element by element on whole arrays.\n",
            " |  \n",
            " |  To see the documentation for a specific ufunc, use `info`.  For\n",
            " |  example, ``np.info(np.sin)``.  Because ufuncs are written in C\n",
            " |  (for speed) and linked into Python with NumPy's ufunc facility,\n",
            " |  Python's help() function finds this page whenever help() is called\n",
            " |  on a ufunc.\n",
            " |  \n",
            " |  A detailed explanation of ufuncs can be found in the docs for :ref:`ufuncs`.\n",
            " |  \n",
            " |  **Calling ufuncs:** ``op(*x[, out], where=True, **kwargs)``\n",
            " |  \n",
            " |  Apply `op` to the arguments `*x` elementwise, broadcasting the arguments.\n",
            " |  \n",
            " |  The broadcasting rules are:\n",
            " |  \n",
            " |  * Dimensions of length 1 may be prepended to either array.\n",
            " |  * Arrays may be repeated along dimensions of length 1.\n",
            " |  \n",
            " |  Parameters\n",
            " |  ----------\n",
            " |  *x : array_like\n",
            " |      Input arrays.\n",
            " |  out : ndarray, None, or tuple of ndarray and None, optional\n",
            " |      Alternate array object(s) in which to put the result; if provided, it\n",
            " |      must have a shape that the inputs broadcast to. A tuple of arrays\n",
            " |      (possible only as a keyword argument) must have length equal to the\n",
            " |      number of outputs; use None for uninitialized outputs to be\n",
            " |      allocated by the ufunc.\n",
            " |  where : array_like, optional\n",
            " |      This condition is broadcast over the input. At locations where the\n",
            " |      condition is True, the `out` array will be set to the ufunc result.\n",
            " |      Elsewhere, the `out` array will retain its original value.\n",
            " |      Note that if an uninitialized `out` array is created via the default\n",
            " |      ``out=None``, locations within it where the condition is False will\n",
            " |      remain uninitialized.\n",
            " |  **kwargs\n",
            " |      For other keyword-only arguments, see the :ref:`ufunc docs <ufuncs.kwargs>`.\n",
            " |  \n",
            " |  Returns\n",
            " |  -------\n",
            " |  r : ndarray or tuple of ndarray\n",
            " |      `r` will have the shape that the arrays in `x` broadcast to; if `out` is\n",
            " |      provided, it will be returned. If not, `r` will be allocated and\n",
            " |      may contain uninitialized values. If the function has more than one\n",
            " |      output, then the result will be a tuple of arrays.\n",
            " |  \n",
            " |  Methods defined here:\n",
            " |  \n",
            " |  __call__(self, /, *args, **kwargs)\n",
            " |      Call self as a function.\n",
            " |  \n",
            " |  __repr__(self, /)\n",
            " |      Return repr(self).\n",
            " |  \n",
            " |  __str__(self, /)\n",
            " |      Return str(self).\n",
            " |  \n",
            " |  accumulate(...)\n",
            " |      accumulate(array, axis=0, dtype=None, out=None)\n",
            " |      \n",
            " |      Accumulate the result of applying the operator to all elements.\n",
            " |      \n",
            " |      For a one-dimensional array, accumulate produces results equivalent to::\n",
            " |      \n",
            " |        r = np.empty(len(A))\n",
            " |        t = op.identity        # op = the ufunc being applied to A's  elements\n",
            " |        for i in range(len(A)):\n",
            " |            t = op(t, A[i])\n",
            " |            r[i] = t\n",
            " |        return r\n",
            " |      \n",
            " |      For example, add.accumulate() is equivalent to np.cumsum().\n",
            " |      \n",
            " |      For a multi-dimensional array, accumulate is applied along only one\n",
            " |      axis (axis zero by default; see Examples below) so repeated use is\n",
            " |      necessary if one wants to accumulate over multiple axes.\n",
            " |      \n",
            " |      Parameters\n",
            " |      ----------\n",
            " |      array : array_like\n",
            " |          The array to act on.\n",
            " |      axis : int, optional\n",
            " |          The axis along which to apply the accumulation; default is zero.\n",
            " |      dtype : data-type code, optional\n",
            " |          The data-type used to represent the intermediate results. Defaults\n",
            " |          to the data-type of the output array if such is provided, or the\n",
            " |          the data-type of the input array if no output array is provided.\n",
            " |      out : ndarray, None, or tuple of ndarray and None, optional\n",
            " |          A location into which the result is stored. If not provided or None,\n",
            " |          a freshly-allocated array is returned. For consistency with\n",
            " |          ``ufunc.__call__``, if given as a keyword, this may be wrapped in a\n",
            " |          1-element tuple.\n",
            " |      \n",
            " |          .. versionchanged:: 1.13.0\n",
            " |             Tuples are allowed for keyword argument.\n",
            " |      \n",
            " |      Returns\n",
            " |      -------\n",
            " |      r : ndarray\n",
            " |          The accumulated values. If `out` was supplied, `r` is a reference to\n",
            " |          `out`.\n",
            " |      \n",
            " |      Examples\n",
            " |      --------\n",
            " |      1-D array examples:\n",
            " |      \n",
            " |      >>> np.add.accumulate([2, 3, 5])\n",
            " |      array([ 2,  5, 10])\n",
            " |      >>> np.multiply.accumulate([2, 3, 5])\n",
            " |      array([ 2,  6, 30])\n",
            " |      \n",
            " |      2-D array examples:\n",
            " |      \n",
            " |      >>> I = np.eye(2)\n",
            " |      >>> I\n",
            " |      array([[1.,  0.],\n",
            " |             [0.,  1.]])\n",
            " |      \n",
            " |      Accumulate along axis 0 (rows), down columns:\n",
            " |      \n",
            " |      >>> np.add.accumulate(I, 0)\n",
            " |      array([[1.,  0.],\n",
            " |             [1.,  1.]])\n",
            " |      >>> np.add.accumulate(I) # no axis specified = axis zero\n",
            " |      array([[1.,  0.],\n",
            " |             [1.,  1.]])\n",
            " |      \n",
            " |      Accumulate along axis 1 (columns), through rows:\n",
            " |      \n",
            " |      >>> np.add.accumulate(I, 1)\n",
            " |      array([[1.,  1.],\n",
            " |             [0.,  1.]])\n",
            " |  \n",
            " |  at(...)\n",
            " |      at(a, indices, b=None, /)\n",
            " |      \n",
            " |      Performs unbuffered in place operation on operand 'a' for elements\n",
            " |      specified by 'indices'. For addition ufunc, this method is equivalent to\n",
            " |      ``a[indices] += b``, except that results are accumulated for elements that\n",
            " |      are indexed more than once. For example, ``a[[0,0]] += 1`` will only\n",
            " |      increment the first element once because of buffering, whereas\n",
            " |      ``add.at(a, [0,0], 1)`` will increment the first element twice.\n",
            " |      \n",
            " |      .. versionadded:: 1.8.0\n",
            " |      \n",
            " |      Parameters\n",
            " |      ----------\n",
            " |      a : array_like\n",
            " |          The array to perform in place operation on.\n",
            " |      indices : array_like or tuple\n",
            " |          Array like index object or slice object for indexing into first\n",
            " |          operand. If first operand has multiple dimensions, indices can be a\n",
            " |          tuple of array like index objects or slice objects.\n",
            " |      b : array_like\n",
            " |          Second operand for ufuncs requiring two operands. Operand must be\n",
            " |          broadcastable over first operand after indexing or slicing.\n",
            " |      \n",
            " |      Examples\n",
            " |      --------\n",
            " |      Set items 0 and 1 to their negative values:\n",
            " |      \n",
            " |      >>> a = np.array([1, 2, 3, 4])\n",
            " |      >>> np.negative.at(a, [0, 1])\n",
            " |      >>> a\n",
            " |      array([-1, -2,  3,  4])\n",
            " |      \n",
            " |      Increment items 0 and 1, and increment item 2 twice:\n",
            " |      \n",
            " |      >>> a = np.array([1, 2, 3, 4])\n",
            " |      >>> np.add.at(a, [0, 1, 2, 2], 1)\n",
            " |      >>> a\n",
            " |      array([2, 3, 5, 4])\n",
            " |      \n",
            " |      Add items 0 and 1 in first array to second array,\n",
            " |      and store results in first array:\n",
            " |      \n",
            " |      >>> a = np.array([1, 2, 3, 4])\n",
            " |      >>> b = np.array([1, 2])\n",
            " |      >>> np.add.at(a, [0, 1], b)\n",
            " |      >>> a\n",
            " |      array([2, 4, 3, 4])\n",
            " |  \n",
            " |  outer(...)\n",
            " |      outer(A, B, /, **kwargs)\n",
            " |      \n",
            " |      Apply the ufunc `op` to all pairs (a, b) with a in `A` and b in `B`.\n",
            " |      \n",
            " |      Let ``M = A.ndim``, ``N = B.ndim``. Then the result, `C`, of\n",
            " |      ``op.outer(A, B)`` is an array of dimension M + N such that:\n",
            " |      \n",
            " |      .. math:: C[i_0, ..., i_{M-1}, j_0, ..., j_{N-1}] =\n",
            " |         op(A[i_0, ..., i_{M-1}], B[j_0, ..., j_{N-1}])\n",
            " |      \n",
            " |      For `A` and `B` one-dimensional, this is equivalent to::\n",
            " |      \n",
            " |        r = empty(len(A),len(B))\n",
            " |        for i in range(len(A)):\n",
            " |            for j in range(len(B)):\n",
            " |                r[i,j] = op(A[i], B[j])  # op = ufunc in question\n",
            " |      \n",
            " |      Parameters\n",
            " |      ----------\n",
            " |      A : array_like\n",
            " |          First array\n",
            " |      B : array_like\n",
            " |          Second array\n",
            " |      kwargs : any\n",
            " |          Arguments to pass on to the ufunc. Typically `dtype` or `out`.\n",
            " |          See `ufunc` for a comprehensive overview of all available arguments.\n",
            " |      \n",
            " |      Returns\n",
            " |      -------\n",
            " |      r : ndarray\n",
            " |          Output array\n",
            " |      \n",
            " |      See Also\n",
            " |      --------\n",
            " |      numpy.outer : A less powerful version of ``np.multiply.outer``\n",
            " |                    that `ravel`\\ s all inputs to 1D. This exists\n",
            " |                    primarily for compatibility with old code.\n",
            " |      \n",
            " |      tensordot : ``np.tensordot(a, b, axes=((), ()))`` and\n",
            " |                  ``np.multiply.outer(a, b)`` behave same for all\n",
            " |                  dimensions of a and b.\n",
            " |      \n",
            " |      Examples\n",
            " |      --------\n",
            " |      >>> np.multiply.outer([1, 2, 3], [4, 5, 6])\n",
            " |      array([[ 4,  5,  6],\n",
            " |             [ 8, 10, 12],\n",
            " |             [12, 15, 18]])\n",
            " |      \n",
            " |      A multi-dimensional example:\n",
            " |      \n",
            " |      >>> A = np.array([[1, 2, 3], [4, 5, 6]])\n",
            " |      >>> A.shape\n",
            " |      (2, 3)\n",
            " |      >>> B = np.array([[1, 2, 3, 4]])\n",
            " |      >>> B.shape\n",
            " |      (1, 4)\n",
            " |      >>> C = np.multiply.outer(A, B)\n",
            " |      >>> C.shape; C\n",
            " |      (2, 3, 1, 4)\n",
            " |      array([[[[ 1,  2,  3,  4]],\n",
            " |              [[ 2,  4,  6,  8]],\n",
            " |              [[ 3,  6,  9, 12]]],\n",
            " |             [[[ 4,  8, 12, 16]],\n",
            " |              [[ 5, 10, 15, 20]],\n",
            " |              [[ 6, 12, 18, 24]]]])\n",
            " |  \n",
            " |  reduce(...)\n",
            " |      reduce(array, axis=0, dtype=None, out=None, keepdims=False, initial=<no value>, where=True)\n",
            " |      \n",
            " |      Reduces `array`'s dimension by one, by applying ufunc along one axis.\n",
            " |      \n",
            " |      Let :math:`array.shape = (N_0, ..., N_i, ..., N_{M-1})`.  Then\n",
            " |      :math:`ufunc.reduce(array, axis=i)[k_0, ..,k_{i-1}, k_{i+1}, .., k_{M-1}]` =\n",
            " |      the result of iterating `j` over :math:`range(N_i)`, cumulatively applying\n",
            " |      ufunc to each :math:`array[k_0, ..,k_{i-1}, j, k_{i+1}, .., k_{M-1}]`.\n",
            " |      For a one-dimensional array, reduce produces results equivalent to:\n",
            " |      ::\n",
            " |      \n",
            " |       r = op.identity # op = ufunc\n",
            " |       for i in range(len(A)):\n",
            " |         r = op(r, A[i])\n",
            " |       return r\n",
            " |      \n",
            " |      For example, add.reduce() is equivalent to sum().\n",
            " |      \n",
            " |      Parameters\n",
            " |      ----------\n",
            " |      array : array_like\n",
            " |          The array to act on.\n",
            " |      axis : None or int or tuple of ints, optional\n",
            " |          Axis or axes along which a reduction is performed.\n",
            " |          The default (`axis` = 0) is perform a reduction over the first\n",
            " |          dimension of the input array. `axis` may be negative, in\n",
            " |          which case it counts from the last to the first axis.\n",
            " |      \n",
            " |          .. versionadded:: 1.7.0\n",
            " |      \n",
            " |          If this is None, a reduction is performed over all the axes.\n",
            " |          If this is a tuple of ints, a reduction is performed on multiple\n",
            " |          axes, instead of a single axis or all the axes as before.\n",
            " |      \n",
            " |          For operations which are either not commutative or not associative,\n",
            " |          doing a reduction over multiple axes is not well-defined. The\n",
            " |          ufuncs do not currently raise an exception in this case, but will\n",
            " |          likely do so in the future.\n",
            " |      dtype : data-type code, optional\n",
            " |          The type used to represent the intermediate results. Defaults\n",
            " |          to the data-type of the output array if this is provided, or\n",
            " |          the data-type of the input array if no output array is provided.\n",
            " |      out : ndarray, None, or tuple of ndarray and None, optional\n",
            " |          A location into which the result is stored. If not provided or None,\n",
            " |          a freshly-allocated array is returned. For consistency with\n",
            " |          ``ufunc.__call__``, if given as a keyword, this may be wrapped in a\n",
            " |          1-element tuple.\n",
            " |      \n",
            " |          .. versionchanged:: 1.13.0\n",
            " |             Tuples are allowed for keyword argument.\n",
            " |      keepdims : bool, optional\n",
            " |          If this is set to True, the axes which are reduced are left\n",
            " |          in the result as dimensions with size one. With this option,\n",
            " |          the result will broadcast correctly against the original `array`.\n",
            " |      \n",
            " |          .. versionadded:: 1.7.0\n",
            " |      initial : scalar, optional\n",
            " |          The value with which to start the reduction.\n",
            " |          If the ufunc has no identity or the dtype is object, this defaults\n",
            " |          to None - otherwise it defaults to ufunc.identity.\n",
            " |          If ``None`` is given, the first element of the reduction is used,\n",
            " |          and an error is thrown if the reduction is empty.\n",
            " |      \n",
            " |          .. versionadded:: 1.15.0\n",
            " |      \n",
            " |      where : array_like of bool, optional\n",
            " |          A boolean array which is broadcasted to match the dimensions\n",
            " |          of `array`, and selects elements to include in the reduction. Note\n",
            " |          that for ufuncs like ``minimum`` that do not have an identity\n",
            " |          defined, one has to pass in also ``initial``.\n",
            " |      \n",
            " |          .. versionadded:: 1.17.0\n",
            " |      \n",
            " |      Returns\n",
            " |      -------\n",
            " |      r : ndarray\n",
            " |          The reduced array. If `out` was supplied, `r` is a reference to it.\n",
            " |      \n",
            " |      Examples\n",
            " |      --------\n",
            " |      >>> np.multiply.reduce([2,3,5])\n",
            " |      30\n",
            " |      \n",
            " |      A multi-dimensional array example:\n",
            " |      \n",
            " |      >>> X = np.arange(8).reshape((2,2,2))\n",
            " |      >>> X\n",
            " |      array([[[0, 1],\n",
            " |              [2, 3]],\n",
            " |             [[4, 5],\n",
            " |              [6, 7]]])\n",
            " |      >>> np.add.reduce(X, 0)\n",
            " |      array([[ 4,  6],\n",
            " |             [ 8, 10]])\n",
            " |      >>> np.add.reduce(X) # confirm: default axis value is 0\n",
            " |      array([[ 4,  6],\n",
            " |             [ 8, 10]])\n",
            " |      >>> np.add.reduce(X, 1)\n",
            " |      array([[ 2,  4],\n",
            " |             [10, 12]])\n",
            " |      >>> np.add.reduce(X, 2)\n",
            " |      array([[ 1,  5],\n",
            " |             [ 9, 13]])\n",
            " |      \n",
            " |      You can use the ``initial`` keyword argument to initialize the reduction\n",
            " |      with a different value, and ``where`` to select specific elements to include:\n",
            " |      \n",
            " |      >>> np.add.reduce([10], initial=5)\n",
            " |      15\n",
            " |      >>> np.add.reduce(np.ones((2, 2, 2)), axis=(0, 2), initial=10)\n",
            " |      array([14., 14.])\n",
            " |      >>> a = np.array([10., np.nan, 10])\n",
            " |      >>> np.add.reduce(a, where=~np.isnan(a))\n",
            " |      20.0\n",
            " |      \n",
            " |      Allows reductions of empty arrays where they would normally fail, i.e.\n",
            " |      for ufuncs without an identity.\n",
            " |      \n",
            " |      >>> np.minimum.reduce([], initial=np.inf)\n",
            " |      inf\n",
            " |      >>> np.minimum.reduce([[1., 2.], [3., 4.]], initial=10., where=[True, False])\n",
            " |      array([ 1., 10.])\n",
            " |      >>> np.minimum.reduce([])\n",
            " |      Traceback (most recent call last):\n",
            " |          ...\n",
            " |      ValueError: zero-size array to reduction operation minimum which has no identity\n",
            " |  \n",
            " |  reduceat(...)\n",
            " |      reduceat(array, indices, axis=0, dtype=None, out=None)\n",
            " |      \n",
            " |      Performs a (local) reduce with specified slices over a single axis.\n",
            " |      \n",
            " |      For i in ``range(len(indices))``, `reduceat` computes\n",
            " |      ``ufunc.reduce(array[indices[i]:indices[i+1]])``, which becomes the i-th\n",
            " |      generalized \"row\" parallel to `axis` in the final result (i.e., in a\n",
            " |      2-D array, for example, if `axis = 0`, it becomes the i-th row, but if\n",
            " |      `axis = 1`, it becomes the i-th column).  There are three exceptions to this:\n",
            " |      \n",
            " |      * when ``i = len(indices) - 1`` (so for the last index),\n",
            " |        ``indices[i+1] = array.shape[axis]``.\n",
            " |      * if ``indices[i] >= indices[i + 1]``, the i-th generalized \"row\" is\n",
            " |        simply ``array[indices[i]]``.\n",
            " |      * if ``indices[i] >= len(array)`` or ``indices[i] < 0``, an error is raised.\n",
            " |      \n",
            " |      The shape of the output depends on the size of `indices`, and may be\n",
            " |      larger than `array` (this happens if ``len(indices) > array.shape[axis]``).\n",
            " |      \n",
            " |      Parameters\n",
            " |      ----------\n",
            " |      array : array_like\n",
            " |          The array to act on.\n",
            " |      indices : array_like\n",
            " |          Paired indices, comma separated (not colon), specifying slices to\n",
            " |          reduce.\n",
            " |      axis : int, optional\n",
            " |          The axis along which to apply the reduceat.\n",
            " |      dtype : data-type code, optional\n",
            " |          The type used to represent the intermediate results. Defaults\n",
            " |          to the data type of the output array if this is provided, or\n",
            " |          the data type of the input array if no output array is provided.\n",
            " |      out : ndarray, None, or tuple of ndarray and None, optional\n",
            " |          A location into which the result is stored. If not provided or None,\n",
            " |          a freshly-allocated array is returned. For consistency with\n",
            " |          ``ufunc.__call__``, if given as a keyword, this may be wrapped in a\n",
            " |          1-element tuple.\n",
            " |      \n",
            " |          .. versionchanged:: 1.13.0\n",
            " |             Tuples are allowed for keyword argument.\n",
            " |      \n",
            " |      Returns\n",
            " |      -------\n",
            " |      r : ndarray\n",
            " |          The reduced values. If `out` was supplied, `r` is a reference to\n",
            " |          `out`.\n",
            " |      \n",
            " |      Notes\n",
            " |      -----\n",
            " |      A descriptive example:\n",
            " |      \n",
            " |      If `array` is 1-D, the function `ufunc.accumulate(array)` is the same as\n",
            " |      ``ufunc.reduceat(array, indices)[::2]`` where `indices` is\n",
            " |      ``range(len(array) - 1)`` with a zero placed\n",
            " |      in every other element:\n",
            " |      ``indices = zeros(2 * len(array) - 1)``,\n",
            " |      ``indices[1::2] = range(1, len(array))``.\n",
            " |      \n",
            " |      Don't be fooled by this attribute's name: `reduceat(array)` is not\n",
            " |      necessarily smaller than `array`.\n",
            " |      \n",
            " |      Examples\n",
            " |      --------\n",
            " |      To take the running sum of four successive values:\n",
            " |      \n",
            " |      >>> np.add.reduceat(np.arange(8),[0,4, 1,5, 2,6, 3,7])[::2]\n",
            " |      array([ 6, 10, 14, 18])\n",
            " |      \n",
            " |      A 2-D example:\n",
            " |      \n",
            " |      >>> x = np.linspace(0, 15, 16).reshape(4,4)\n",
            " |      >>> x\n",
            " |      array([[ 0.,   1.,   2.,   3.],\n",
            " |             [ 4.,   5.,   6.,   7.],\n",
            " |             [ 8.,   9.,  10.,  11.],\n",
            " |             [12.,  13.,  14.,  15.]])\n",
            " |      \n",
            " |      ::\n",
            " |      \n",
            " |       # reduce such that the result has the following five rows:\n",
            " |       # [row1 + row2 + row3]\n",
            " |       # [row4]\n",
            " |       # [row2]\n",
            " |       # [row3]\n",
            " |       # [row1 + row2 + row3 + row4]\n",
            " |      \n",
            " |      >>> np.add.reduceat(x, [0, 3, 1, 2, 0])\n",
            " |      array([[12.,  15.,  18.,  21.],\n",
            " |             [12.,  13.,  14.,  15.],\n",
            " |             [ 4.,   5.,   6.,   7.],\n",
            " |             [ 8.,   9.,  10.,  11.],\n",
            " |             [24.,  28.,  32.,  36.]])\n",
            " |      \n",
            " |      ::\n",
            " |      \n",
            " |       # reduce such that result has the following two columns:\n",
            " |       # [col1 * col2 * col3, col4]\n",
            " |      \n",
            " |      >>> np.multiply.reduceat(x, [0, 3], 1)\n",
            " |      array([[   0.,     3.],\n",
            " |             [ 120.,     7.],\n",
            " |             [ 720.,    11.],\n",
            " |             [2184.,    15.]])\n",
            " |  \n",
            " |  ----------------------------------------------------------------------\n",
            " |  Data descriptors defined here:\n",
            " |  \n",
            " |  identity\n",
            " |      The identity value.\n",
            " |      \n",
            " |      Data attribute containing the identity element for the ufunc, if it has one.\n",
            " |      If it does not, the attribute value is None.\n",
            " |      \n",
            " |      Examples\n",
            " |      --------\n",
            " |      >>> np.add.identity\n",
            " |      0\n",
            " |      >>> np.multiply.identity\n",
            " |      1\n",
            " |      >>> np.power.identity\n",
            " |      1\n",
            " |      >>> print(np.exp.identity)\n",
            " |      None\n",
            " |  \n",
            " |  nargs\n",
            " |      The number of arguments.\n",
            " |      \n",
            " |      Data attribute containing the number of arguments the ufunc takes, including\n",
            " |      optional ones.\n",
            " |      \n",
            " |      Notes\n",
            " |      -----\n",
            " |      Typically this value will be one more than what you might expect because all\n",
            " |      ufuncs take  the optional \"out\" argument.\n",
            " |      \n",
            " |      Examples\n",
            " |      --------\n",
            " |      >>> np.add.nargs\n",
            " |      3\n",
            " |      >>> np.multiply.nargs\n",
            " |      3\n",
            " |      >>> np.power.nargs\n",
            " |      3\n",
            " |      >>> np.exp.nargs\n",
            " |      2\n",
            " |  \n",
            " |  nin\n",
            " |      The number of inputs.\n",
            " |      \n",
            " |      Data attribute containing the number of arguments the ufunc treats as input.\n",
            " |      \n",
            " |      Examples\n",
            " |      --------\n",
            " |      >>> np.add.nin\n",
            " |      2\n",
            " |      >>> np.multiply.nin\n",
            " |      2\n",
            " |      >>> np.power.nin\n",
            " |      2\n",
            " |      >>> np.exp.nin\n",
            " |      1\n",
            " |  \n",
            " |  nout\n",
            " |      The number of outputs.\n",
            " |      \n",
            " |      Data attribute containing the number of arguments the ufunc treats as output.\n",
            " |      \n",
            " |      Notes\n",
            " |      -----\n",
            " |      Since all ufuncs can take output arguments, this will always be (at least) 1.\n",
            " |      \n",
            " |      Examples\n",
            " |      --------\n",
            " |      >>> np.add.nout\n",
            " |      1\n",
            " |      >>> np.multiply.nout\n",
            " |      1\n",
            " |      >>> np.power.nout\n",
            " |      1\n",
            " |      >>> np.exp.nout\n",
            " |      1\n",
            " |  \n",
            " |  ntypes\n",
            " |      The number of types.\n",
            " |      \n",
            " |      The number of numerical NumPy types - of which there are 18 total - on which\n",
            " |      the ufunc can operate.\n",
            " |      \n",
            " |      See Also\n",
            " |      --------\n",
            " |      numpy.ufunc.types\n",
            " |      \n",
            " |      Examples\n",
            " |      --------\n",
            " |      >>> np.add.ntypes\n",
            " |      18\n",
            " |      >>> np.multiply.ntypes\n",
            " |      18\n",
            " |      >>> np.power.ntypes\n",
            " |      17\n",
            " |      >>> np.exp.ntypes\n",
            " |      7\n",
            " |      >>> np.remainder.ntypes\n",
            " |      14\n",
            " |  \n",
            " |  signature\n",
            " |      Definition of the core elements a generalized ufunc operates on.\n",
            " |      \n",
            " |      The signature determines how the dimensions of each input/output array\n",
            " |      are split into core and loop dimensions:\n",
            " |      \n",
            " |      1. Each dimension in the signature is matched to a dimension of the\n",
            " |         corresponding passed-in array, starting from the end of the shape tuple.\n",
            " |      2. Core dimensions assigned to the same label in the signature must have\n",
            " |         exactly matching sizes, no broadcasting is performed.\n",
            " |      3. The core dimensions are removed from all inputs and the remaining\n",
            " |         dimensions are broadcast together, defining the loop dimensions.\n",
            " |      \n",
            " |      Notes\n",
            " |      -----\n",
            " |      Generalized ufuncs are used internally in many linalg functions, and in\n",
            " |      the testing suite; the examples below are taken from these.\n",
            " |      For ufuncs that operate on scalars, the signature is None, which is\n",
            " |      equivalent to '()' for every argument.\n",
            " |      \n",
            " |      Examples\n",
            " |      --------\n",
            " |      >>> np.core.umath_tests.matrix_multiply.signature\n",
            " |      '(m,n),(n,p)->(m,p)'\n",
            " |      >>> np.linalg._umath_linalg.det.signature\n",
            " |      '(m,m)->()'\n",
            " |      >>> np.add.signature is None\n",
            " |      True  # equivalent to '(),()->()'\n",
            " |  \n",
            " |  types\n",
            " |      Returns a list with types grouped input->output.\n",
            " |      \n",
            " |      Data attribute listing the data-type \"Domain-Range\" groupings the ufunc can\n",
            " |      deliver. The data-types are given using the character codes.\n",
            " |      \n",
            " |      See Also\n",
            " |      --------\n",
            " |      numpy.ufunc.ntypes\n",
            " |      \n",
            " |      Examples\n",
            " |      --------\n",
            " |      >>> np.add.types\n",
            " |      ['??->?', 'bb->b', 'BB->B', 'hh->h', 'HH->H', 'ii->i', 'II->I', 'll->l',\n",
            " |      'LL->L', 'qq->q', 'QQ->Q', 'ff->f', 'dd->d', 'gg->g', 'FF->F', 'DD->D',\n",
            " |      'GG->G', 'OO->O']\n",
            " |      \n",
            " |      >>> np.multiply.types\n",
            " |      ['??->?', 'bb->b', 'BB->B', 'hh->h', 'HH->H', 'ii->i', 'II->I', 'll->l',\n",
            " |      'LL->L', 'qq->q', 'QQ->Q', 'ff->f', 'dd->d', 'gg->g', 'FF->F', 'DD->D',\n",
            " |      'GG->G', 'OO->O']\n",
            " |      \n",
            " |      >>> np.power.types\n",
            " |      ['bb->b', 'BB->B', 'hh->h', 'HH->H', 'ii->i', 'II->I', 'll->l', 'LL->L',\n",
            " |      'qq->q', 'QQ->Q', 'ff->f', 'dd->d', 'gg->g', 'FF->F', 'DD->D', 'GG->G',\n",
            " |      'OO->O']\n",
            " |      \n",
            " |      >>> np.exp.types\n",
            " |      ['f->f', 'd->d', 'g->g', 'F->F', 'D->D', 'G->G', 'O->O']\n",
            " |      \n",
            " |      >>> np.remainder.types\n",
            " |      ['bb->b', 'BB->B', 'hh->h', 'HH->H', 'ii->i', 'II->I', 'll->l', 'LL->L',\n",
            " |      'qq->q', 'QQ->Q', 'ff->f', 'dd->d', 'gg->g', 'OO->O']\n",
            "\n"
          ]
        }
      ],
      "source": [
        "a = help(np.add)\n",
        "a"
      ]
    },
    {
      "cell_type": "markdown",
      "metadata": {
        "id": "mAFzwnTVT9y_"
      },
      "source": [
        "#### 6.  Create a null vector of size 10 but the fifth value which is 1 (★☆☆) \n",
        "(**hint**: array\\[4\\])"
      ]
    },
    {
      "cell_type": "code",
      "execution_count": null,
      "metadata": {
        "id": "gv9bCgG1T9y_",
        "colab": {
          "base_uri": "https://localhost:8080/"
        },
        "outputId": "0e2b3f67-516e-4931-bb10-d48a6ef0c3fa"
      },
      "outputs": [
        {
          "output_type": "stream",
          "name": "stdout",
          "text": [
            "[0. 0. 0. 0. 1. 0. 0. 0. 0. 0.]\n"
          ]
        }
      ],
      "source": [
        "import numpy as np\n",
        "a = np.zeros(10)\n",
        "a[4]=1\n",
        "print(a)"
      ]
    },
    {
      "cell_type": "markdown",
      "metadata": {
        "id": "QsQrQKQLT9y_"
      },
      "source": [
        "#### 7.  Create a vector with values ranging from 10 to 49 (★☆☆) \n",
        "(**hint**: np.arange)"
      ]
    },
    {
      "cell_type": "code",
      "execution_count": null,
      "metadata": {
        "id": "3zIIqMfBT9zA",
        "colab": {
          "base_uri": "https://localhost:8080/"
        },
        "outputId": "c293b684-4913-43ce-970b-d01351e96197"
      },
      "outputs": [
        {
          "output_type": "execute_result",
          "data": {
            "text/plain": [
              "array([10, 11, 12, 13, 14, 15, 16, 17, 18, 19, 20, 21, 22, 23, 24, 25, 26,\n",
              "       27, 28, 29, 30, 31, 32, 33, 34, 35, 36, 37, 38, 39, 40, 41, 42, 43,\n",
              "       44, 45, 46, 47, 48, 49])"
            ]
          },
          "metadata": {},
          "execution_count": 7
        }
      ],
      "source": [
        "import numpy as np\n",
        "\n",
        "arr = np.arange(10,50)\n",
        "arr"
      ]
    },
    {
      "cell_type": "markdown",
      "metadata": {
        "id": "HieA-VsYT9zA"
      },
      "source": [
        "#### 8.  Reverse a vector (first element becomes last) (★☆☆) \n",
        "(**hint**: array\\[::-1\\])"
      ]
    },
    {
      "cell_type": "code",
      "execution_count": null,
      "metadata": {
        "id": "KGMNAZy3T9zA",
        "colab": {
          "base_uri": "https://localhost:8080/"
        },
        "outputId": "d3709cd0-7487-4331-d000-fce26ccde985"
      },
      "outputs": [
        {
          "output_type": "stream",
          "name": "stdout",
          "text": [
            "[60 50 40 30 20 10]\n"
          ]
        }
      ],
      "source": [
        "import numpy as np\n",
        "\n",
        "arr = np.array([10,20,30,40,50,60])\n",
        "print(arr[::-1])"
      ]
    },
    {
      "cell_type": "markdown",
      "metadata": {
        "id": "r4CbwDzZT9zA"
      },
      "source": [
        "#### 9.  Create a 3x3 matrix with values ranging from 0 to 8 (★☆☆) \n",
        "(**hint**: reshape)"
      ]
    },
    {
      "cell_type": "code",
      "execution_count": null,
      "metadata": {
        "id": "_evjoursT9zA",
        "colab": {
          "base_uri": "https://localhost:8080/"
        },
        "outputId": "b7765d9f-8d23-428a-9f5c-460466482b7b"
      },
      "outputs": [
        {
          "output_type": "stream",
          "name": "stdout",
          "text": [
            "[[0 1 2]\n",
            " [3 4 5]\n",
            " [6 7 8]]\n"
          ]
        }
      ],
      "source": [
        "import numpy as np\n",
        "\n",
        "arr = np.arange(9)\n",
        "print(arr.reshape(3,3))\n"
      ]
    },
    {
      "cell_type": "markdown",
      "metadata": {
        "id": "pKhEEoCxT9zB"
      },
      "source": [
        "#### 10. Find indices of non-zero elements from \\[1,2,0,0,4,0\\] (★☆☆) \n",
        "(**hint**: np.nonzero)"
      ]
    },
    {
      "cell_type": "code",
      "execution_count": null,
      "metadata": {
        "id": "3WOu20OsT9zB",
        "colab": {
          "base_uri": "https://localhost:8080/"
        },
        "outputId": "7f9197e7-68fc-4e3f-e107-433a7803bba1"
      },
      "outputs": [
        {
          "output_type": "stream",
          "name": "stdout",
          "text": [
            "[0, 1, 4]\n"
          ]
        }
      ],
      "source": [
        "import numpy as np\n",
        "\n",
        "arr = np.array([1,2,0,0,4,0])\n",
        "c = []\n",
        "for i, x in enumerate(arr):\n",
        "  if x !=0:\n",
        "  \tc.append(i)\n",
        "print(c)"
      ]
    },
    {
      "cell_type": "code",
      "source": [
        "print(np.nonzero(arr))"
      ],
      "metadata": {
        "colab": {
          "base_uri": "https://localhost:8080/"
        },
        "id": "KCHeQxN4Zegg",
        "outputId": "04a3b1bc-d42e-4c6b-f4a5-50bbc64cecd0"
      },
      "execution_count": null,
      "outputs": [
        {
          "output_type": "stream",
          "name": "stdout",
          "text": [
            "(array([0, 1, 4]),)\n"
          ]
        }
      ]
    },
    {
      "cell_type": "markdown",
      "metadata": {
        "id": "PGyFPrS9T9zB"
      },
      "source": [
        "#### 11. Create a 3x3 identity matrix (★☆☆) \n",
        "(**hint**: np.eye)"
      ]
    },
    {
      "cell_type": "code",
      "execution_count": null,
      "metadata": {
        "id": "yZMddVd9T9zB",
        "colab": {
          "base_uri": "https://localhost:8080/"
        },
        "outputId": "ffa78a4d-2e38-4a9d-b8dc-bef52a273f7f"
      },
      "outputs": [
        {
          "output_type": "execute_result",
          "data": {
            "text/plain": [
              "array([[1, 0, 0],\n",
              "       [0, 1, 0],\n",
              "       [0, 0, 1]])"
            ]
          },
          "metadata": {},
          "execution_count": 12
        }
      ],
      "source": [
        "import numpy as np\n",
        "\n",
        "arr = np.eye(3, dtype=\"int\")\n",
        "arr"
      ]
    },
    {
      "cell_type": "markdown",
      "metadata": {
        "id": "hjfhfmtRT9zC"
      },
      "source": [
        "#### 12. Create a 3x3x3 array with random values (★☆☆) \n",
        "(**hint**: np.random.random)"
      ]
    },
    {
      "cell_type": "code",
      "execution_count": null,
      "metadata": {
        "collapsed": true,
        "id": "vx6YSDgTT9zC",
        "colab": {
          "base_uri": "https://localhost:8080/"
        },
        "outputId": "2dd93a54-3148-47aa-bc3c-37c389df21b4"
      },
      "outputs": [
        {
          "output_type": "stream",
          "name": "stdout",
          "text": [
            "[[[0.64223329 0.16442766 0.02616218]\n",
            "  [0.87206353 0.56636613 0.57991189]\n",
            "  [0.32060759 0.2822175  0.17989749]]\n",
            "\n",
            " [[0.33181062 0.32174073 0.33240483]\n",
            "  [0.51296701 0.18767214 0.59922418]\n",
            "  [0.3099578  0.38378688 0.86256534]]\n",
            "\n",
            " [[0.12582647 0.23951158 0.25697397]\n",
            "  [0.14253351 0.13630539 0.64527085]\n",
            "  [0.72393961 0.06150926 0.85880392]]]\n"
          ]
        }
      ],
      "source": [
        "import numpy as np\n",
        "\n",
        "arr = np.random.random((3,3,3))\n",
        "print(arr)"
      ]
    },
    {
      "cell_type": "markdown",
      "metadata": {
        "id": "RYdluz2iT9zC"
      },
      "source": [
        "#### 13. Create a 10x10 array with random values and find the minimum and maximum values (★☆☆) \n",
        "(**hint**: min, max)"
      ]
    },
    {
      "cell_type": "code",
      "execution_count": null,
      "metadata": {
        "id": "dJZzg5BGT9zC",
        "colab": {
          "base_uri": "https://localhost:8080/"
        },
        "outputId": "34bee3a7-641a-4f17-cd84-60a914fb6eb2"
      },
      "outputs": [
        {
          "output_type": "stream",
          "name": "stdout",
          "text": [
            "0.0037576980751875544\n",
            "0.9819381329196605\n"
          ]
        }
      ],
      "source": [
        "import numpy as np\n",
        "\n",
        "arr = np.random.random((10,10))\n",
        "print(arr.min())\n",
        "print(arr.max())"
      ]
    },
    {
      "cell_type": "markdown",
      "metadata": {
        "id": "az67rGcFT9zC"
      },
      "source": [
        "#### 14. Create a random vector of size 30 and find the mean value (★☆☆) \n",
        "(**hint**: mean)"
      ]
    },
    {
      "cell_type": "code",
      "execution_count": null,
      "metadata": {
        "id": "pvt0I4hMT9zC",
        "colab": {
          "base_uri": "https://localhost:8080/"
        },
        "outputId": "53ee3896-6991-4422-a286-acb249eee970"
      },
      "outputs": [
        {
          "output_type": "stream",
          "name": "stdout",
          "text": [
            "0.476413119639537\n"
          ]
        }
      ],
      "source": [
        " arr = np.random.random(30)\n",
        " print(arr.mean())"
      ]
    },
    {
      "cell_type": "markdown",
      "metadata": {
        "id": "TCxKA9JfT9zC"
      },
      "source": [
        "#### 15. Create a 2d array with 1 on the border and 0 inside (★☆☆) \n",
        "(**hint**: array\\[1:-1, 1:-1\\])"
      ]
    },
    {
      "cell_type": "code",
      "execution_count": null,
      "metadata": {
        "id": "PC9p7RLYT9zD",
        "colab": {
          "base_uri": "https://localhost:8080/"
        },
        "outputId": "7ad9863c-69b3-44c7-d56e-ebbef44954fb"
      },
      "outputs": [
        {
          "output_type": "stream",
          "name": "stdout",
          "text": [
            "[[1 1 1 1 1]\n",
            " [1 0 0 0 1]\n",
            " [1 0 0 0 1]\n",
            " [1 0 0 0 1]\n",
            " [1 1 1 1 1]]\n"
          ]
        }
      ],
      "source": [
        "arr = np.ones((5,5),dtype = 'int')\n",
        "arr[1:-1,1:-1] = 0\n",
        "print(arr)"
      ]
    },
    {
      "cell_type": "markdown",
      "metadata": {
        "id": "uC2yCldfT9zD"
      },
      "source": [
        "#### 16. How to add a border (filled with 0's) around an existing array? (★☆☆) \n",
        "(**hint**: np.pad)"
      ]
    },
    {
      "cell_type": "code",
      "execution_count": null,
      "metadata": {
        "id": "DsMOYAN2T9zD",
        "colab": {
          "base_uri": "https://localhost:8080/"
        },
        "outputId": "fc6de4db-285b-465e-c205-e4d2c882da5f"
      },
      "outputs": [
        {
          "output_type": "stream",
          "name": "stdout",
          "text": [
            "[[0 0 0 0 0]\n",
            " [0 1 1 1 0]\n",
            " [0 1 1 1 0]\n",
            " [0 1 1 1 0]\n",
            " [0 0 0 0 0]]\n"
          ]
        }
      ],
      "source": [
        "arr = np.zeros((5,5),dtype = 'int')\n",
        "arr[1:-1,1:-1] = 1\n",
        "print(arr)"
      ]
    },
    {
      "cell_type": "markdown",
      "metadata": {
        "id": "CycP8QRyT9zD"
      },
      "source": [
        "#### 17. What is the result of the following expression? (★☆☆) \n",
        "(**hint**: NaN = not a number, inf = infinity)"
      ]
    },
    {
      "cell_type": "markdown",
      "metadata": {
        "id": "2wvRPlg0T9zD"
      },
      "source": [
        "```python\n",
        "0 * np.nan\n",
        "np.nan == np.nan\n",
        "np.inf > np.nan\n",
        "np.nan - np.nan\n",
        "0.3 == 3 * 0.1\n",
        "```"
      ]
    },
    {
      "cell_type": "code",
      "execution_count": null,
      "metadata": {
        "id": "WixfUScVT9zD",
        "colab": {
          "base_uri": "https://localhost:8080/"
        },
        "outputId": "48ea6806-0a81-4e8e-b253-e8d95aec0398"
      },
      "outputs": [
        {
          "output_type": "stream",
          "name": "stdout",
          "text": [
            "nan\n",
            "False\n",
            "False\n",
            "nan\n",
            "False\n"
          ]
        }
      ],
      "source": [
        "exp1 = 0 * np.nan\n",
        "exp2 = np.nan == np.nan\n",
        "exp3 = np.inf > np.nan\n",
        "exp4 = np.nan - np.nan\n",
        "exp5 = 0.3 == 3 * 0.1\n",
        "\n",
        "print(exp1)\n",
        "print(exp2)\n",
        "print(exp3)\n",
        "print(exp4)\n",
        "print(exp5)"
      ]
    },
    {
      "cell_type": "markdown",
      "metadata": {
        "id": "-plndVP9T9zE"
      },
      "source": [
        "#### 18. Create a 5x5 matrix with values 1,2,3,4 just below the diagonal (★☆☆) \n",
        "(**hint**: np.diag)"
      ]
    },
    {
      "cell_type": "code",
      "execution_count": null,
      "metadata": {
        "id": "aIVoSt_IT9zE",
        "colab": {
          "base_uri": "https://localhost:8080/"
        },
        "outputId": "ff57f1ca-6ca6-4cb7-c233-d88f6c50731b"
      },
      "outputs": [
        {
          "output_type": "execute_result",
          "data": {
            "text/plain": [
              "array([[1, 0, 0, 0, 0],\n",
              "       [0, 2, 0, 0, 0],\n",
              "       [0, 0, 3, 0, 0],\n",
              "       [0, 0, 0, 4, 0],\n",
              "       [0, 0, 0, 0, 5]])"
            ]
          },
          "metadata": {},
          "execution_count": 19
        }
      ],
      "source": [
        "arr = np.diag((1,2,3,4,5))\n",
        "arr"
      ]
    },
    {
      "cell_type": "markdown",
      "metadata": {
        "id": "VB1fboeDT9zE"
      },
      "source": [
        "#### 19. Create a 8x8 matrix and fill it with a checkerboard pattern (★☆☆) \n",
        "(**hint**: array\\[::2\\])"
      ]
    },
    {
      "cell_type": "code",
      "execution_count": null,
      "metadata": {
        "id": "X9Q4nb3GT9zE",
        "colab": {
          "base_uri": "https://localhost:8080/"
        },
        "outputId": "04417101-99ca-4275-f563-8cd8cafd00b0"
      },
      "outputs": [
        {
          "output_type": "execute_result",
          "data": {
            "text/plain": [
              "array([[0, 1, 0, 1, 0, 1, 0, 1],\n",
              "       [1, 0, 1, 0, 1, 0, 1, 0],\n",
              "       [0, 1, 0, 1, 0, 1, 0, 1],\n",
              "       [1, 0, 1, 0, 1, 0, 1, 0],\n",
              "       [0, 1, 0, 1, 0, 1, 0, 1],\n",
              "       [1, 0, 1, 0, 1, 0, 1, 0],\n",
              "       [0, 1, 0, 1, 0, 1, 0, 1],\n",
              "       [1, 0, 1, 0, 1, 0, 1, 0]])"
            ]
          },
          "metadata": {},
          "execution_count": 20
        }
      ],
      "source": [
        "arr = np.zeros((8,8),dtype = 'int')\n",
        "arr[::2,1::2] = 1\n",
        "arr[1::2,::2] = 1\n",
        "arr"
      ]
    },
    {
      "cell_type": "markdown",
      "metadata": {
        "id": "YgvsWKp0T9zE"
      },
      "source": [
        "#### 20. Consider a (6,7,8) shape array, what is the index (x,y,z) of the 100th element? \n",
        "(**hint**: np.unravel_index)"
      ]
    },
    {
      "cell_type": "code",
      "execution_count": null,
      "metadata": {
        "id": "MXqTl9wST9zE",
        "colab": {
          "base_uri": "https://localhost:8080/"
        },
        "outputId": "c700e145-166d-4683-8ef5-ad92ba29306f"
      },
      "outputs": [
        {
          "output_type": "stream",
          "name": "stdout",
          "text": [
            "1 5 3\n"
          ]
        }
      ],
      "source": [
        "arr1 = np.unravel_index(99,(6,7,8)) #using the element value to get the index\n",
        "print(*arr1)"
      ]
    },
    {
      "cell_type": "markdown",
      "metadata": {
        "id": "YGU_f4SET9zF"
      },
      "source": [
        "#### 21. Create a checkerboard 8x8 matrix using the tile function (★☆☆) \n",
        "(**hint**: np.tile)"
      ]
    },
    {
      "cell_type": "code",
      "execution_count": null,
      "metadata": {
        "id": "xdQ0Km8IT9zF",
        "colab": {
          "base_uri": "https://localhost:8080/"
        },
        "outputId": "c8dbdfdd-ed7b-4b57-8114-b6780cc50320"
      },
      "outputs": [
        {
          "output_type": "stream",
          "name": "stdout",
          "text": [
            "[[0 1 0 1 0 1 0 1]\n",
            " [1 0 1 0 1 0 1 0]\n",
            " [0 1 0 1 0 1 0 1]\n",
            " [1 0 1 0 1 0 1 0]\n",
            " [0 1 0 1 0 1 0 1]\n",
            " [1 0 1 0 1 0 1 0]\n",
            " [0 1 0 1 0 1 0 1]\n",
            " [1 0 1 0 1 0 1 0]]\n"
          ]
        }
      ],
      "source": [
        "# tile(A, reps)\n",
        "\n",
        "#a = np.zeros(64,dtype=\"int\").reshape((8,8))\n",
        "a= np.array([[0,1],[1,0]], dtype=\"int\")\n",
        "arr = np.tile(a,reps=(4,4))\n",
        "print(arr)"
      ]
    },
    {
      "cell_type": "markdown",
      "metadata": {
        "id": "cfUp9yCBT9zF"
      },
      "source": [
        "#### 22. Normalize a 5x5 random matrix (★☆☆) \n",
        "(**hint**: (x - min) / (max - min))"
      ]
    },
    {
      "cell_type": "code",
      "execution_count": null,
      "metadata": {
        "id": "5AnNcni7T9zF",
        "colab": {
          "base_uri": "https://localhost:8080/"
        },
        "outputId": "929e06cd-599d-47eb-9019-338f3db5d12a"
      },
      "outputs": [
        {
          "output_type": "stream",
          "name": "stdout",
          "text": [
            "[[0.56338649 0.39620268 0.13589161 0.95199489 0.71371067]\n",
            " [0.67402772 0.10091002 0.94737514 0.46582553 1.        ]\n",
            " [0.76489916 0.81578606 0.24090292 0.69059908 0.44956199]\n",
            " [0.78188983 0.89094183 0.63811268 0.         0.45522382]\n",
            " [0.43439295 0.60482538 0.4176159  0.46710584 0.78862031]]\n"
          ]
        }
      ],
      "source": [
        "x= np.random.random((5,5))\n",
        "xmax, xmin = x.max(), x.min()\n",
        "x = (x - xmin)/(xmax - xmin)\n",
        "print(x)"
      ]
    },
    {
      "cell_type": "markdown",
      "metadata": {
        "id": "D1ypaA1nT9zF"
      },
      "source": [
        "#### 23. Create a custom dtype that describes a color as four unsigned bytes (RGBA) (★☆☆) \n",
        "(**hint**: np.dtype)"
      ]
    },
    {
      "cell_type": "code",
      "execution_count": null,
      "metadata": {
        "id": "v0tRzglmT9zF",
        "colab": {
          "base_uri": "https://localhost:8080/"
        },
        "outputId": "d18d416e-4f54-4381-8484-c4d68d380d5b"
      },
      "outputs": [
        {
          "output_type": "stream",
          "name": "stderr",
          "text": [
            "/usr/local/lib/python3.7/dist-packages/ipykernel_launcher.py:4: FutureWarning: Passing (type, 1) or '1type' as a synonym of type is deprecated; in a future version of numpy, it will be understood as (type, (1,)) / '(1,)type'.\n",
            "  after removing the cwd from sys.path.\n"
          ]
        }
      ],
      "source": [
        "color = np.dtype([(\"r\", np.ubyte, 1),\n",
        "                  (\"g\", np.ubyte, 1),\n",
        "                  (\"b\", np.ubyte, 1),\n",
        "                  (\"a\", np.ubyte, 1)])"
      ]
    },
    {
      "cell_type": "markdown",
      "metadata": {
        "id": "cPiKxHUeT9zF"
      },
      "source": [
        "#### 24. Multiply a 5x3 matrix by a 3x2 matrix (real matrix product) (★☆☆) \n",
        "(**hint**: np.dot | @)"
      ]
    },
    {
      "cell_type": "code",
      "execution_count": null,
      "metadata": {
        "id": "S_3ec5KHT9zG",
        "colab": {
          "base_uri": "https://localhost:8080/"
        },
        "outputId": "fa5ace95-ec95-4900-8a4e-b60890bcbf22"
      },
      "outputs": [
        {
          "output_type": "stream",
          "name": "stdout",
          "text": [
            "[[3. 3.]\n",
            " [3. 3.]\n",
            " [3. 3.]\n",
            " [3. 3.]\n",
            " [3. 3.]]\n"
          ]
        }
      ],
      "source": [
        "x = np.ones((5,3)) @ np.ones((3,2))\n",
        "\n",
        "print(x)\n"
      ]
    },
    {
      "cell_type": "markdown",
      "metadata": {
        "id": "wJTaYqUTT9zG"
      },
      "source": [
        "#### 25. Given a 1D array, negate all elements which are between 3 and 8, in place. (★☆☆) \n",
        "(**hint**: >, <=)"
      ]
    },
    {
      "cell_type": "code",
      "execution_count": null,
      "metadata": {
        "id": "cMwJkt54T9zG",
        "colab": {
          "base_uri": "https://localhost:8080/"
        },
        "outputId": "127a674c-3cca-4a71-da6b-91fc554bdb2b"
      },
      "outputs": [
        {
          "output_type": "stream",
          "name": "stdout",
          "text": [
            "[ 0  1  2  3 -4 -5 -6 -7 -8  9 10]\n"
          ]
        }
      ],
      "source": [
        "Z = np.arange(11)\n",
        "Z[(3 < Z) & (Z <= 8)] *= -1\n",
        "print(Z)"
      ]
    },
    {
      "cell_type": "markdown",
      "metadata": {
        "id": "NhOWIMdhT9zG"
      },
      "source": [
        "#### 26. What is the output of the following script? (★☆☆) \n",
        "(**hint**: np.sum)"
      ]
    },
    {
      "cell_type": "markdown",
      "metadata": {
        "id": "TD245D01T9zG"
      },
      "source": [
        "```python\n",
        "# Author: Jake VanderPlas\n",
        "\n",
        "print(sum(range(5),-1))\n",
        "from numpy import *\n",
        "print(sum(range(5),-1))\n",
        "```"
      ]
    },
    {
      "cell_type": "code",
      "execution_count": null,
      "metadata": {
        "id": "kjj-C5PbT9zG",
        "colab": {
          "base_uri": "https://localhost:8080/"
        },
        "outputId": "4f3e847e-30c2-4692-c216-7373d6945fff"
      },
      "outputs": [
        {
          "output_type": "stream",
          "name": "stdout",
          "text": [
            "9\n",
            "10\n"
          ]
        }
      ],
      "source": [
        "print(sum(range(5),-1))\n",
        "from numpy import *\n",
        "print(sum(range(5),-1))\n"
      ]
    },
    {
      "cell_type": "markdown",
      "metadata": {
        "id": "-1kSE9eQT9zG"
      },
      "source": [
        "#### 27. Consider an integer vector Z, which of these expressions are legal? (★☆☆)"
      ]
    },
    {
      "cell_type": "markdown",
      "metadata": {
        "id": "M55F7-C7T9zG"
      },
      "source": [
        "```python\n",
        "Z**Z\n",
        "2 << Z >> 2\n",
        "Z <- Z\n",
        "1j*Z\n",
        "Z/1/1\n",
        "Z<Z>Z\n",
        "```"
      ]
    },
    {
      "cell_type": "code",
      "execution_count": null,
      "metadata": {
        "id": "XoGNc7NiT9zH",
        "colab": {
          "base_uri": "https://localhost:8080/"
        },
        "outputId": "006f9db0-3992-4efb-d593-b74a851108b0"
      },
      "outputs": [
        {
          "output_type": "stream",
          "name": "stdout",
          "text": [
            "[  0   1   2   4   0   0   0   0   0 256 512]\n",
            "[False False False False  True  True  True  True  True False False]\n",
            "[ 0. +0.j  0. +1.j  0. +2.j  0. +3.j -0. -4.j -0. -5.j -0. -6.j -0. -7.j\n",
            " -0. -8.j  0. +9.j  0.+10.j]\n",
            "[ 0.  1.  2.  3. -4. -5. -6. -7. -8.  9. 10.]\n"
          ]
        }
      ],
      "source": [
        "print(2 << Z >> 2)\n",
        "print(Z <- Z)\n",
        "print(1j*Z)\n",
        "print(Z/1/1)"
      ]
    },
    {
      "cell_type": "markdown",
      "metadata": {
        "id": "GGtCyx8OT9zH"
      },
      "source": [
        "#### 28. What are the result of the following expressions?"
      ]
    },
    {
      "cell_type": "markdown",
      "metadata": {
        "id": "gTi-z9NlT9zH"
      },
      "source": [
        "```python\n",
        "np.array(0) / np.array(0)\n",
        "np.array(0) // np.array(0)\n",
        "np.array([np.nan]).astype(int).astype(float)\n",
        "```"
      ]
    },
    {
      "cell_type": "code",
      "execution_count": null,
      "metadata": {
        "id": "Y2qGm6SqT9zH",
        "colab": {
          "base_uri": "https://localhost:8080/"
        },
        "outputId": "895a71b9-b139-43dd-c2ea-70030bc23c3e"
      },
      "outputs": [
        {
          "output_type": "stream",
          "name": "stdout",
          "text": [
            "nan\n",
            "0\n",
            "[-9.22337204e+18]\n"
          ]
        },
        {
          "output_type": "stream",
          "name": "stderr",
          "text": [
            "/usr/local/lib/python3.7/dist-packages/ipykernel_launcher.py:1: RuntimeWarning: invalid value encountered in true_divide\n",
            "  \"\"\"Entry point for launching an IPython kernel.\n",
            "/usr/local/lib/python3.7/dist-packages/ipykernel_launcher.py:2: RuntimeWarning: divide by zero encountered in floor_divide\n",
            "  \n"
          ]
        }
      ],
      "source": [
        "print(np.array(0) / np.array(0))\n",
        "print(np.array(0) // np.array(0))\n",
        "print(np.array([np.nan]).astype(int).astype(float))"
      ]
    },
    {
      "cell_type": "markdown",
      "metadata": {
        "id": "-VeTcd9jT9zH"
      },
      "source": [
        "#### 29. How to round away from zero a float array ? (★☆☆) \n",
        "(**hint**: np.uniform, np.copysign, np.ceil, np.abs)"
      ]
    },
    {
      "cell_type": "code",
      "execution_count": null,
      "metadata": {
        "id": "HpI92QpUT9zH",
        "colab": {
          "base_uri": "https://localhost:8080/"
        },
        "outputId": "d5ac1025-5be1-42ec-eca7-4fb72c658023"
      },
      "outputs": [
        {
          "output_type": "stream",
          "name": "stdout",
          "text": [
            "[  3.  -3.   5.   6.  -9.  -1.  -4.  -2.   8. -10.]\n"
          ]
        }
      ],
      "source": [
        "Z = np.random.uniform(-10,+10,10)\n",
        "print(np.copysign(np.ceil(np.abs(Z)), Z))"
      ]
    },
    {
      "cell_type": "markdown",
      "metadata": {
        "id": "_M4Npjt_T9zH"
      },
      "source": [
        "#### 30. How to find common values between two arrays? (★☆☆) \n",
        "(**hint**: np.intersect1d)"
      ]
    },
    {
      "cell_type": "code",
      "execution_count": null,
      "metadata": {
        "id": "pQrtp8mnT9zH",
        "colab": {
          "base_uri": "https://localhost:8080/"
        },
        "outputId": "f2eb6f55-fceb-4cd2-c133-e5fa5b9937b3"
      },
      "outputs": [
        {
          "output_type": "stream",
          "name": "stdout",
          "text": [
            "[1 2 3]\n"
          ]
        }
      ],
      "source": [
        "Z1 = np.array([1,2,3,4,5,6,7,8])\n",
        "Z2 = np.array([1,2,3,40,50,60,70,80])\n",
        "\n",
        "print(np.intersect1d(Z1,Z2))"
      ]
    },
    {
      "cell_type": "markdown",
      "metadata": {
        "id": "N0q5hqnMT9zH"
      },
      "source": [
        "#### 31. How to ignore all numpy warnings (not recommended)? (★☆☆) \n",
        "(**hint**: np.seterr, np.errstate)"
      ]
    },
    {
      "cell_type": "code",
      "execution_count": null,
      "metadata": {
        "id": "OhxerSFhT9zI"
      },
      "outputs": [],
      "source": [
        "# All the warrings will be ignored\n",
        "np.seterr(all=\"ignore\")\n",
        "Z = np.ones(1) / 0"
      ]
    },
    {
      "cell_type": "code",
      "source": [
        "# Only the selected specific line error will be ignored\n",
        "with np.errstate(divide='ignore'):\n",
        "  Z = np.ones(1) / 0"
      ],
      "metadata": {
        "id": "6-I6Tjz085ES"
      },
      "execution_count": null,
      "outputs": []
    },
    {
      "cell_type": "markdown",
      "metadata": {
        "id": "obDcdBZYT9zI"
      },
      "source": [
        "#### 32. Is the following expressions true? (★☆☆) \n",
        "(**hint**: imaginary number)"
      ]
    },
    {
      "cell_type": "markdown",
      "metadata": {
        "id": "h2cLrFkNT9zI"
      },
      "source": [
        "```python\n",
        "np.sqrt(-1) == np.emath.sqrt(-1)\n",
        "```"
      ]
    },
    {
      "cell_type": "code",
      "execution_count": null,
      "metadata": {
        "id": "LR9pn55aT9zI",
        "colab": {
          "base_uri": "https://localhost:8080/"
        },
        "outputId": "ed22b1d5-eaae-4be6-b12d-cad53d4966f4"
      },
      "outputs": [
        {
          "output_type": "execute_result",
          "data": {
            "text/plain": [
              "False"
            ]
          },
          "metadata": {},
          "execution_count": 34
        }
      ],
      "source": [
        "# No it is a false statement\n",
        "np.sqrt(-1) == np.emath.sqrt(-1)"
      ]
    },
    {
      "cell_type": "markdown",
      "metadata": {
        "id": "8lYHajZXT9zI"
      },
      "source": [
        "#### 33. How to get the dates of yesterday, today and tomorrow? (★☆☆) \n",
        "(**hint**: np.datetime64, np.timedelta64)"
      ]
    },
    {
      "cell_type": "code",
      "execution_count": null,
      "metadata": {
        "collapsed": true,
        "id": "aY9PGvPnT9zI",
        "colab": {
          "base_uri": "https://localhost:8080/"
        },
        "outputId": "baf77ee7-0d8d-4241-e219-6b0fc2762bed"
      },
      "outputs": [
        {
          "output_type": "stream",
          "name": "stdout",
          "text": [
            "Yesterday:  2022-11-16\n",
            "Today:  2022-11-17\n",
            "Tomorrow:  2022-11-18\n"
          ]
        }
      ],
      "source": [
        "yesterday = np.datetime64('today', 'D') - np.timedelta64(1, 'D')\n",
        "today     = np.datetime64('today', 'D')\n",
        "tomorrow  = np.datetime64('today', 'D') + np.timedelta64(1, 'D')\n",
        "\n",
        "print('Yesterday: ',yesterday)\n",
        "print('Today: ',today)\n",
        "print('Tomorrow: ',tomorrow)"
      ]
    },
    {
      "cell_type": "markdown",
      "metadata": {
        "id": "pJhNXMECT9zI"
      },
      "source": [
        "#### 34. How to get all the dates corresponding to the month of July 2016? (★★☆) \n",
        "(**hint**: np.arange(dtype=datetime64\\['D'\\]))"
      ]
    },
    {
      "cell_type": "code",
      "execution_count": null,
      "metadata": {
        "id": "zlrRy1aKT9zI",
        "colab": {
          "base_uri": "https://localhost:8080/"
        },
        "outputId": "03543820-67dd-4207-9498-8286da016be2"
      },
      "outputs": [
        {
          "output_type": "execute_result",
          "data": {
            "text/plain": [
              "array(['2016-07-01', '2016-07-02', '2016-07-03', '2016-07-04',\n",
              "       '2016-07-05', '2016-07-06', '2016-07-07', '2016-07-08',\n",
              "       '2016-07-09', '2016-07-10', '2016-07-11', '2016-07-12',\n",
              "       '2016-07-13', '2016-07-14', '2016-07-15', '2016-07-16',\n",
              "       '2016-07-17', '2016-07-18', '2016-07-19', '2016-07-20',\n",
              "       '2016-07-21', '2016-07-22', '2016-07-23', '2016-07-24',\n",
              "       '2016-07-25', '2016-07-26', '2016-07-27', '2016-07-28',\n",
              "       '2016-07-29', '2016-07-30', '2016-07-31'], dtype='datetime64[D]')"
            ]
          },
          "metadata": {},
          "execution_count": 36
        }
      ],
      "source": [
        "dur =  np.arange('2016-07','2016-08', dtype='datetime64[D]')\n",
        "dur"
      ]
    },
    {
      "cell_type": "markdown",
      "metadata": {
        "id": "LLIvSWjiT9zI"
      },
      "source": [
        "#### 35. How to compute ((A+B)\\*(-A/2)) in place (without copy)? (★★☆) \n",
        "(**hint**: np.add(out=), np.negative(out=), np.multiply(out=), np.divide(out=))"
      ]
    },
    {
      "cell_type": "code",
      "execution_count": null,
      "metadata": {
        "id": "Ja6SO5uUT9zJ",
        "colab": {
          "base_uri": "https://localhost:8080/"
        },
        "outputId": "51f81846-5603-48d3-8017-ef64d4c4bc46"
      },
      "outputs": [
        {
          "output_type": "execute_result",
          "data": {
            "text/plain": [
              "array([-1.5, -1.5, -1.5])"
            ]
          },
          "metadata": {},
          "execution_count": 37
        }
      ],
      "source": [
        "A = np.ones(3)*1\n",
        "B = np.ones(3)*2\n",
        "C = np.ones(3)*3\n",
        "np.add(A,B,out=B)\n",
        "np.divide(A,2,out=A)\n",
        "np.negative(A,out=A)\n",
        "np.multiply(A,B,out=A)"
      ]
    },
    {
      "cell_type": "markdown",
      "metadata": {
        "id": "KEa_PySRT9zJ"
      },
      "source": [
        "#### 36. Extract the integer part of a random array using 5 different methods (★★☆) \n",
        "(**hint**: %, np.floor, np.ceil, astype, np.trunc)"
      ]
    },
    {
      "cell_type": "code",
      "execution_count": null,
      "metadata": {
        "id": "VMrsniMtT9zJ",
        "colab": {
          "base_uri": "https://localhost:8080/"
        },
        "outputId": "0c825899-eba9-4c79-cfa8-22dafa5af059"
      },
      "outputs": [
        {
          "output_type": "stream",
          "name": "stdout",
          "text": [
            "[7. 0. 8. 2. 6. 6. 2. 5. 1. 1.]\n",
            "[7. 0. 8. 2. 6. 6. 2. 5. 1. 1.]\n",
            "[8. 1. 9. 3. 7. 7. 3. 6. 2. 2.]\n",
            "[7 0 8 2 6 6 2 5 1 1]\n",
            "[7. 0. 8. 2. 6. 6. 2. 5. 1. 1.]\n"
          ]
        }
      ],
      "source": [
        "Z = np.random.uniform(0,10,10)\n",
        "\n",
        "print (Z - Z%1)\n",
        "print(np.floor(Z))\n",
        "print(np.ceil(Z))\n",
        "print (Z.astype(int))\n",
        "print (np.trunc(Z))"
      ]
    },
    {
      "cell_type": "markdown",
      "metadata": {
        "id": "_y0CgMTWT9zJ"
      },
      "source": [
        "#### 37. Create a 5x5 matrix with row values ranging from 0 to 4 (★★☆) \n",
        "(**hint**: np.arange)"
      ]
    },
    {
      "cell_type": "code",
      "execution_count": null,
      "metadata": {
        "id": "jVTCH_gnT9zJ",
        "colab": {
          "base_uri": "https://localhost:8080/"
        },
        "outputId": "3987e382-7aab-4fee-994d-b03370bfdbde"
      },
      "outputs": [
        {
          "output_type": "execute_result",
          "data": {
            "text/plain": [
              "array([[0., 1., 2., 3., 4.],\n",
              "       [0., 1., 2., 3., 4.],\n",
              "       [0., 1., 2., 3., 4.],\n",
              "       [0., 1., 2., 3., 4.],\n",
              "       [0., 1., 2., 3., 4.]])"
            ]
          },
          "metadata": {},
          "execution_count": 39
        }
      ],
      "source": [
        "arr =  np.zeros((5,5))\n",
        "arr = arr + np.arange(5)\n",
        "arr\n"
      ]
    },
    {
      "cell_type": "markdown",
      "metadata": {
        "id": "gdR4mY33T9zJ"
      },
      "source": [
        "#### 38. Consider a generator function that generates 10 integers and use it to build an array (★☆☆) \n",
        "(**hint**: np.fromiter)"
      ]
    },
    {
      "cell_type": "code",
      "execution_count": null,
      "metadata": {
        "id": "2SoYMuxbT9zJ",
        "colab": {
          "base_uri": "https://localhost:8080/"
        },
        "outputId": "63d0c682-2835-4595-965d-f47564620baf"
      },
      "outputs": [
        {
          "output_type": "stream",
          "name": "stdout",
          "text": [
            "[0. 1. 2. 3. 4. 5. 6. 7. 8. 9.]\n"
          ]
        }
      ],
      "source": [
        "def generate():\n",
        "    for x in range(10):\n",
        "        yield x\n",
        "Z = np.fromiter(generate(),dtype=float)\n",
        "print(Z)\n"
      ]
    },
    {
      "cell_type": "markdown",
      "metadata": {
        "id": "6qby8uMkT9zJ"
      },
      "source": [
        "#### 39. Create a vector of size 10 with values ranging from 0 to 1, both excluded (★★☆) \n",
        "(**hint**: np.linspace)"
      ]
    },
    {
      "cell_type": "code",
      "execution_count": null,
      "metadata": {
        "id": "YDb5zDosT9zK",
        "colab": {
          "base_uri": "https://localhost:8080/"
        },
        "outputId": "a256e93f-4c96-41a5-e621-d22c5fbc6e2b"
      },
      "outputs": [
        {
          "output_type": "stream",
          "name": "stdout",
          "text": [
            "[0.09090909 0.18181818 0.27272727 0.36363636 0.45454545 0.54545455\n",
            " 0.63636364 0.72727273 0.81818182 0.90909091]\n"
          ]
        }
      ],
      "source": [
        "arr = np.linspace(0,1, num=11, endpoint= False)[1:]\n",
        "print(arr)"
      ]
    },
    {
      "cell_type": "markdown",
      "metadata": {
        "id": "JQfw9mFOT9zK"
      },
      "source": [
        "#### 40. Create a random vector of size 10 and sort it (★★☆) \n",
        "(**hint**: sort)"
      ]
    },
    {
      "cell_type": "code",
      "execution_count": null,
      "metadata": {
        "id": "zHK5C4s_T9zK",
        "colab": {
          "base_uri": "https://localhost:8080/"
        },
        "outputId": "2f2fcbef-7f86-4b81-9394-dc36660239f6"
      },
      "outputs": [
        {
          "output_type": "stream",
          "name": "stdout",
          "text": [
            "[0.89790108 0.80188381 0.48939504 0.84481131 0.20432831 0.22554837\n",
            " 0.20353083 0.39475433 0.23010046 0.1248519 ]\n"
          ]
        }
      ],
      "source": [
        "vec = np.random.random(10)\n",
        "vec.sort\n",
        "print(vec)"
      ]
    },
    {
      "cell_type": "markdown",
      "metadata": {
        "id": "cTQP9Va3T9zK"
      },
      "source": [
        "#### 41. How to sum a small array faster than np.sum? (★★☆) \n",
        "(**hint**: np.add.reduce)"
      ]
    },
    {
      "cell_type": "code",
      "execution_count": null,
      "metadata": {
        "id": "5H_-Wv5fT9zK",
        "colab": {
          "base_uri": "https://localhost:8080/"
        },
        "outputId": "056079aa-4243-41c2-d47e-16972d57e85f"
      },
      "outputs": [
        {
          "output_type": "stream",
          "name": "stdout",
          "text": [
            "45\n"
          ]
        }
      ],
      "source": [
        "sm = np.arange(10)\n",
        "print(np.add.reduce(sm))"
      ]
    },
    {
      "cell_type": "markdown",
      "metadata": {
        "id": "DXcpvMTrT9zK"
      },
      "source": [
        "#### 42. Consider two random array A and B, check if they are equal (★★☆) \n",
        "(**hint**: np.allclose, np.array\\_equal)"
      ]
    },
    {
      "cell_type": "code",
      "execution_count": null,
      "metadata": {
        "id": "-p9M85I3T9zK",
        "colab": {
          "base_uri": "https://localhost:8080/"
        },
        "outputId": "b431b2c9-ce4c-4329-9076-ac8c63092ae1"
      },
      "outputs": [
        {
          "output_type": "stream",
          "name": "stdout",
          "text": [
            "False\n",
            "False\n"
          ]
        }
      ],
      "source": [
        "first = np.random.random(10)\n",
        "second = np.random.random(10)\n",
        "print(np.allclose(first,second))\n",
        "print(np.array_equal(first,second))"
      ]
    },
    {
      "cell_type": "markdown",
      "metadata": {
        "id": "BVK81qqYT9zK"
      },
      "source": [
        "#### 43. Make an array immutable (read-only) (★★☆) \n",
        "(**hint**: flags.writeable)"
      ]
    },
    {
      "cell_type": "code",
      "execution_count": null,
      "metadata": {
        "id": "HSYBGQ67T9zL",
        "colab": {
          "base_uri": "https://localhost:8080/",
          "height": 200
        },
        "outputId": "2492b263-2877-4eea-ed61-cf513534ba12"
      },
      "outputs": [
        {
          "output_type": "error",
          "ename": "ValueError",
          "evalue": "ignored",
          "traceback": [
            "\u001b[0;31m---------------------------------------------------------------------------\u001b[0m",
            "\u001b[0;31mValueError\u001b[0m                                Traceback (most recent call last)",
            "\u001b[0;32m<ipython-input-45-dcc5e7f145b5>\u001b[0m in \u001b[0;36m<module>\u001b[0;34m\u001b[0m\n\u001b[1;32m      1\u001b[0m \u001b[0mZ\u001b[0m \u001b[0;34m=\u001b[0m \u001b[0mnp\u001b[0m\u001b[0;34m.\u001b[0m\u001b[0mzeros\u001b[0m\u001b[0;34m(\u001b[0m\u001b[0;36m10\u001b[0m\u001b[0;34m)\u001b[0m\u001b[0;34m\u001b[0m\u001b[0;34m\u001b[0m\u001b[0m\n\u001b[1;32m      2\u001b[0m \u001b[0mZ\u001b[0m\u001b[0;34m.\u001b[0m\u001b[0mflags\u001b[0m\u001b[0;34m.\u001b[0m\u001b[0mwriteable\u001b[0m \u001b[0;34m=\u001b[0m \u001b[0;32mFalse\u001b[0m\u001b[0;34m\u001b[0m\u001b[0;34m\u001b[0m\u001b[0m\n\u001b[0;32m----> 3\u001b[0;31m \u001b[0mZ\u001b[0m\u001b[0;34m[\u001b[0m\u001b[0;36m0\u001b[0m\u001b[0;34m]\u001b[0m \u001b[0;34m=\u001b[0m \u001b[0;36m1\u001b[0m\u001b[0;34m\u001b[0m\u001b[0;34m\u001b[0m\u001b[0m\n\u001b[0m",
            "\u001b[0;31mValueError\u001b[0m: assignment destination is read-only"
          ]
        }
      ],
      "source": [
        "Z = np.zeros(10)\n",
        "Z.flags.writeable = False\n",
        "Z[0] = 1"
      ]
    },
    {
      "cell_type": "markdown",
      "metadata": {
        "id": "FfXSto2aT9zL"
      },
      "source": [
        "#### 44. Consider a random 10x2 matrix representing cartesian coordinates, convert them to polar coordinates (★★☆) \n",
        "(**hint**: np.sqrt, np.arctan2)"
      ]
    },
    {
      "cell_type": "code",
      "execution_count": null,
      "metadata": {
        "id": "D24tTjiTT9zL",
        "colab": {
          "base_uri": "https://localhost:8080/"
        },
        "outputId": "c7abeff9-a821-49aa-b940-5aa01d7bafa9"
      },
      "outputs": [
        {
          "output_type": "stream",
          "name": "stdout",
          "text": [
            "[0.49648542 0.49161325 1.10658515 1.03438502 1.31488112 0.77807826\n",
            " 0.69330753 0.97319068 1.09546593 0.70031003]\n",
            "[0.77116074 0.36792704 1.03763137 0.89321391 0.83078994 0.4164677\n",
            " 1.10456665 1.13823789 0.83058324 0.12913326]\n"
          ]
        }
      ],
      "source": [
        "con = np.random.random((10,2))\n",
        "X,Y = con[:,0], con[:,1]\n",
        "R = np.sqrt(X**2+Y**2)\n",
        "T = np.arctan2(Y,X)\n",
        "print(R)\n",
        "print(T)"
      ]
    },
    {
      "cell_type": "markdown",
      "metadata": {
        "id": "GpsgWZUsT9zL"
      },
      "source": [
        "#### 45. Create random vector of size 10 and replace the maximum value by 0 (★★☆) \n",
        "(**hint**: argmax)"
      ]
    },
    {
      "cell_type": "code",
      "execution_count": null,
      "metadata": {
        "id": "d2bkHEV1T9zL",
        "colab": {
          "base_uri": "https://localhost:8080/"
        },
        "outputId": "38321157-4ffd-41f6-cfd7-b1c33f0cb596"
      },
      "outputs": [
        {
          "output_type": "stream",
          "name": "stdout",
          "text": [
            "[0.8334738  0.73695284 0.20205838 0.10193393 0.02880935 0.\n",
            " 0.62918058 0.11228649 0.0789319  0.6416168 ]\n"
          ]
        }
      ],
      "source": [
        "ran = np.random.random(10)\n",
        "ran[ran.argmax()] = 0\n",
        "print(ran)"
      ]
    },
    {
      "cell_type": "markdown",
      "metadata": {
        "id": "V-NQY4M0T9zL"
      },
      "source": [
        "#### 46. Create a structured array with `x` and `y` coordinates covering the \\[0,1\\]x\\[0,1\\] area (★★☆) \n",
        "(**hint**: np.meshgrid)"
      ]
    },
    {
      "cell_type": "code",
      "execution_count": null,
      "metadata": {
        "id": "b7d5JlFsT9zL",
        "colab": {
          "base_uri": "https://localhost:8080/"
        },
        "outputId": "9993d7aa-ddc1-43c9-fc72-9a83377e8c4b"
      },
      "outputs": [
        {
          "output_type": "stream",
          "name": "stdout",
          "text": [
            "[[(0.  , 0.  ) (0.25, 0.  ) (0.5 , 0.  ) (0.75, 0.  ) (1.  , 0.  )]\n",
            " [(0.  , 0.25) (0.25, 0.25) (0.5 , 0.25) (0.75, 0.25) (1.  , 0.25)]\n",
            " [(0.  , 0.5 ) (0.25, 0.5 ) (0.5 , 0.5 ) (0.75, 0.5 ) (1.  , 0.5 )]\n",
            " [(0.  , 0.75) (0.25, 0.75) (0.5 , 0.75) (0.75, 0.75) (1.  , 0.75)]\n",
            " [(0.  , 1.  ) (0.25, 1.  ) (0.5 , 1.  ) (0.75, 1.  ) (1.  , 1.  )]]\n"
          ]
        }
      ],
      "source": [
        "A = np.zeros((5,5), [('x',float),('y',float)])\n",
        "A['x'], A['y'] = np.meshgrid(np.linspace(0,1,5),np.linspace(0,1,5))\n",
        "print(A)"
      ]
    },
    {
      "cell_type": "markdown",
      "metadata": {
        "id": "Rscek4SsT9zL"
      },
      "source": [
        "####  47. Given two arrays, X and Y, construct the Cauchy matrix C (Cij =1/(xi - yj)) \n",
        "(**hint**: np.subtract.outer)"
      ]
    },
    {
      "cell_type": "code",
      "execution_count": null,
      "metadata": {
        "id": "PY-SEW_1T9zL",
        "colab": {
          "base_uri": "https://localhost:8080/"
        },
        "outputId": "86691d23-8c65-450f-944b-dd922d9b19d4"
      },
      "outputs": [
        {
          "output_type": "stream",
          "name": "stdout",
          "text": [
            "3638.163637117973\n"
          ]
        }
      ],
      "source": [
        "X = np.arange(8)\n",
        "Y = X + 0.5\n",
        "C = 1.0 / np.subtract.outer(X, Y)\n",
        "print(np.linalg.det(C))"
      ]
    },
    {
      "cell_type": "markdown",
      "metadata": {
        "id": "HJK8oG0fT9zM"
      },
      "source": [
        "#### 48. Print the minimum and maximum representable value for each numpy scalar type (★★☆) \n",
        "(**hint**: np.iinfo, np.finfo, eps)"
      ]
    },
    {
      "cell_type": "code",
      "execution_count": null,
      "metadata": {
        "id": "e3SLWSKZT9zM",
        "colab": {
          "base_uri": "https://localhost:8080/"
        },
        "outputId": "8491c0a0-45a4-4160-81f1-04e1440527df"
      },
      "outputs": [
        {
          "output_type": "stream",
          "name": "stdout",
          "text": [
            "-128\n",
            "127\n",
            "-2147483648\n",
            "2147483647\n",
            "-9223372036854775808\n",
            "9223372036854775807\n",
            "-3.4028235e+38\n",
            "3.4028235e+38\n",
            "1.1920929e-07\n",
            "-1.7976931348623157e+308\n",
            "1.7976931348623157e+308\n",
            "2.220446049250313e-16\n"
          ]
        }
      ],
      "source": [
        "for dtype in [np.int8, np.int32, np.int64]:\n",
        "   print(np.iinfo(dtype).min)\n",
        "   print(np.iinfo(dtype).max)\n",
        "\n",
        "for dtype in [np.float32, np.float64]: \n",
        "   print(np.finfo(dtype).min)\n",
        "   print(np.finfo(dtype).max)\n",
        "   print(np.finfo(dtype).eps)"
      ]
    },
    {
      "cell_type": "markdown",
      "metadata": {
        "id": "YzNtccpRT9zM"
      },
      "source": [
        "#### 49. How to print all the values of an array? (★★☆) \n",
        "(**hint**: np.set\\_printoptions)"
      ]
    },
    {
      "cell_type": "code",
      "execution_count": null,
      "metadata": {
        "id": "S8tS-6C5T9zM",
        "colab": {
          "base_uri": "https://localhost:8080/",
          "height": 363
        },
        "outputId": "8c051fe7-95cb-4ce0-d264-3c2d84cb9932"
      },
      "outputs": [
        {
          "output_type": "error",
          "ename": "ValueError",
          "evalue": "ignored",
          "traceback": [
            "\u001b[0;31m---------------------------------------------------------------------------\u001b[0m",
            "\u001b[0;31mValueError\u001b[0m                                Traceback (most recent call last)",
            "\u001b[0;32m<ipython-input-51-8e6bd600a6bc>\u001b[0m in \u001b[0;36m<module>\u001b[0;34m\u001b[0m\n\u001b[0;32m----> 1\u001b[0;31m \u001b[0mnp\u001b[0m\u001b[0;34m.\u001b[0m\u001b[0mset_printoptions\u001b[0m\u001b[0;34m(\u001b[0m\u001b[0mthreshold\u001b[0m\u001b[0;34m=\u001b[0m\u001b[0mnp\u001b[0m\u001b[0;34m.\u001b[0m\u001b[0mnan\u001b[0m\u001b[0;34m)\u001b[0m\u001b[0;34m\u001b[0m\u001b[0;34m\u001b[0m\u001b[0m\n\u001b[0m\u001b[1;32m      2\u001b[0m \u001b[0mZ\u001b[0m \u001b[0;34m=\u001b[0m \u001b[0mnp\u001b[0m\u001b[0;34m.\u001b[0m\u001b[0mzeros\u001b[0m\u001b[0;34m(\u001b[0m\u001b[0;34m(\u001b[0m\u001b[0;36m16\u001b[0m\u001b[0;34m,\u001b[0m\u001b[0;36m16\u001b[0m\u001b[0;34m)\u001b[0m\u001b[0;34m)\u001b[0m\u001b[0;34m\u001b[0m\u001b[0;34m\u001b[0m\u001b[0m\n\u001b[1;32m      3\u001b[0m \u001b[0mprint\u001b[0m\u001b[0;34m(\u001b[0m\u001b[0mZ\u001b[0m\u001b[0;34m)\u001b[0m\u001b[0;34m\u001b[0m\u001b[0;34m\u001b[0m\u001b[0m\n",
            "\u001b[0;32m/usr/local/lib/python3.7/dist-packages/numpy/core/arrayprint.py\u001b[0m in \u001b[0;36mset_printoptions\u001b[0;34m(precision, threshold, edgeitems, linewidth, suppress, nanstr, infstr, formatter, sign, floatmode, legacy)\u001b[0m\n\u001b[1;32m    252\u001b[0m     opt = _make_options_dict(precision, threshold, edgeitems, linewidth,\n\u001b[1;32m    253\u001b[0m                              \u001b[0msuppress\u001b[0m\u001b[0;34m,\u001b[0m \u001b[0mnanstr\u001b[0m\u001b[0;34m,\u001b[0m \u001b[0minfstr\u001b[0m\u001b[0;34m,\u001b[0m \u001b[0msign\u001b[0m\u001b[0;34m,\u001b[0m \u001b[0mformatter\u001b[0m\u001b[0;34m,\u001b[0m\u001b[0;34m\u001b[0m\u001b[0;34m\u001b[0m\u001b[0m\n\u001b[0;32m--> 254\u001b[0;31m                              floatmode, legacy)\n\u001b[0m\u001b[1;32m    255\u001b[0m     \u001b[0;31m# formatter is always reset\u001b[0m\u001b[0;34m\u001b[0m\u001b[0;34m\u001b[0m\u001b[0;34m\u001b[0m\u001b[0m\n\u001b[1;32m    256\u001b[0m     \u001b[0mopt\u001b[0m\u001b[0;34m[\u001b[0m\u001b[0;34m'formatter'\u001b[0m\u001b[0;34m]\u001b[0m \u001b[0;34m=\u001b[0m \u001b[0mformatter\u001b[0m\u001b[0;34m\u001b[0m\u001b[0;34m\u001b[0m\u001b[0m\n",
            "\u001b[0;32m/usr/local/lib/python3.7/dist-packages/numpy/core/arrayprint.py\u001b[0m in \u001b[0;36m_make_options_dict\u001b[0;34m(precision, threshold, edgeitems, linewidth, suppress, nanstr, infstr, sign, formatter, floatmode, legacy)\u001b[0m\n\u001b[1;32m     86\u001b[0m             \u001b[0;32mraise\u001b[0m \u001b[0mTypeError\u001b[0m\u001b[0;34m(\u001b[0m\u001b[0;34m\"threshold must be numeric\"\u001b[0m\u001b[0;34m)\u001b[0m\u001b[0;34m\u001b[0m\u001b[0;34m\u001b[0m\u001b[0m\n\u001b[1;32m     87\u001b[0m         \u001b[0;32mif\u001b[0m \u001b[0mnp\u001b[0m\u001b[0;34m.\u001b[0m\u001b[0misnan\u001b[0m\u001b[0;34m(\u001b[0m\u001b[0mthreshold\u001b[0m\u001b[0;34m)\u001b[0m\u001b[0;34m:\u001b[0m\u001b[0;34m\u001b[0m\u001b[0;34m\u001b[0m\u001b[0m\n\u001b[0;32m---> 88\u001b[0;31m             raise ValueError(\"threshold must be non-NAN, try \"\n\u001b[0m\u001b[1;32m     89\u001b[0m                              \"sys.maxsize for untruncated representation\")\n\u001b[1;32m     90\u001b[0m \u001b[0;34m\u001b[0m\u001b[0m\n",
            "\u001b[0;31mValueError\u001b[0m: threshold must be non-NAN, try sys.maxsize for untruncated representation"
          ]
        }
      ],
      "source": [
        "np.set_printoptions(threshold=np.nan)\n",
        "Z = np.zeros((16,16))\n",
        "print(Z)"
      ]
    },
    {
      "cell_type": "markdown",
      "metadata": {
        "id": "qh8gxYl8T9zM"
      },
      "source": [
        "#### 50. How to find the closest value (to a given scalar) in a vector? (★★☆) \n",
        "(**hint**: argmin)"
      ]
    },
    {
      "cell_type": "code",
      "execution_count": null,
      "metadata": {
        "id": "Af1nT8y6T9zM",
        "colab": {
          "base_uri": "https://localhost:8080/"
        },
        "outputId": "8ddc6d26-fabc-4913-a014-5e399c28f126"
      },
      "outputs": [
        {
          "output_type": "stream",
          "name": "stdout",
          "text": [
            "20\n"
          ]
        }
      ],
      "source": [
        "Z = np.arange(100)\n",
        "v = np.random.uniform(0,100)\n",
        "index = (np.abs(Z-v)).argmin()\n",
        "print(Z[index])"
      ]
    },
    {
      "cell_type": "markdown",
      "metadata": {
        "id": "Lh4Fbva_T9zM"
      },
      "source": [
        "#### 51. Create a structured array representing a position (x,y) and a color (r,g,b) (★★☆) \n",
        "(**hint**: dtype)"
      ]
    },
    {
      "cell_type": "code",
      "execution_count": null,
      "metadata": {
        "id": "NjL0NCAdT9zM",
        "colab": {
          "base_uri": "https://localhost:8080/"
        },
        "outputId": "75ed0476-9996-4eba-8fab-874291ca493b"
      },
      "outputs": [
        {
          "output_type": "stream",
          "name": "stdout",
          "text": [
            "[((0., 0.), (0., 0., 0.)) ((0., 0.), (0., 0., 0.))\n",
            " ((0., 0.), (0., 0., 0.)) ((0., 0.), (0., 0., 0.))\n",
            " ((0., 0.), (0., 0., 0.)) ((0., 0.), (0., 0., 0.))\n",
            " ((0., 0.), (0., 0., 0.)) ((0., 0.), (0., 0., 0.))\n",
            " ((0., 0.), (0., 0., 0.)) ((0., 0.), (0., 0., 0.))]\n"
          ]
        },
        {
          "output_type": "stream",
          "name": "stderr",
          "text": [
            "/usr/local/lib/python3.7/dist-packages/ipykernel_launcher.py:5: FutureWarning: Passing (type, 1) or '1type' as a synonym of type is deprecated; in a future version of numpy, it will be understood as (type, (1,)) / '(1,)type'.\n",
            "  \"\"\"\n"
          ]
        }
      ],
      "source": [
        "Z = np.zeros(10, [ ('position', [ ('x', float, 1),\n",
        "                                  ('y', float, 1)]),\n",
        "                   ('color',    [ ('r', float, 1),\n",
        "                                  ('g', float, 1),\n",
        "                                  ('b', float, 1)])])\n",
        "print(Z)"
      ]
    },
    {
      "cell_type": "markdown",
      "metadata": {
        "id": "5HlRgcSKT9zM"
      },
      "source": [
        "#### 52. Consider a random vector with shape (100,2) representing coordinates, find point by point distances (★★☆) \n",
        "(**hint**: np.atleast\\_2d, T, np.sqrt)"
      ]
    },
    {
      "cell_type": "code",
      "execution_count": null,
      "metadata": {
        "id": "LMbEl4C9T9zN",
        "colab": {
          "base_uri": "https://localhost:8080/"
        },
        "outputId": "27fe0023-9369-4c6d-d007-78034ef465d8"
      },
      "outputs": [
        {
          "output_type": "stream",
          "name": "stdout",
          "text": [
            "[[0.         0.25464095 0.40663668 0.31476018 0.27359064 0.82809654\n",
            "  0.16824791 0.69645396 0.53732359 0.1914593 ]\n",
            " [0.25464095 0.         0.65844827 0.54093304 0.37465226 0.85490229\n",
            "  0.25404299 0.67094738 0.29554743 0.38695158]\n",
            " [0.40663668 0.65844827 0.         0.18376891 0.44395085 0.86882687\n",
            "  0.46275788 0.83905807 0.92324788 0.31748083]\n",
            " [0.31476018 0.54093304 0.18376891 0.         0.2656553  0.7027939\n",
            "  0.31024001 0.65743262 0.77798557 0.15941258]\n",
            " [0.27359064 0.37465226 0.44395085 0.2656553  0.         0.5550496\n",
            "  0.12856912 0.44125298 0.54484717 0.14216968]\n",
            " [0.82809654 0.85490229 0.86882687 0.7027939  0.5550496  0.\n",
            "  0.66882638 0.22337507 0.85329075 0.67413506]\n",
            " [0.16824791 0.25404299 0.46275788 0.31024001 0.12856912 0.66882638\n",
            "  0.         0.52854707 0.46778582 0.15108936]\n",
            " [0.69645396 0.67094738 0.83905807 0.65743262 0.44125298 0.22337507\n",
            "  0.52854707 0.         0.63461157 0.57997356]\n",
            " [0.53732359 0.29554743 0.92324788 0.77798557 0.54484717 0.85329075\n",
            "  0.46778582 0.63461157 0.         0.61884899]\n",
            " [0.1914593  0.38695158 0.31748083 0.15941258 0.14216968 0.67413506\n",
            "  0.15108936 0.57997356 0.61884899 0.        ]]\n"
          ]
        }
      ],
      "source": [
        "Z = np.random.random((10,2))\n",
        "X,Y = np.atleast_2d(Z[:,0], Z[:,1])\n",
        "D = np.sqrt( (X-X.T)**2 + (Y-Y.T)**2)\n",
        "print(D)"
      ]
    },
    {
      "cell_type": "markdown",
      "metadata": {
        "id": "yZU-Lm-dT9zN"
      },
      "source": [
        "#### 53. How to convert a float (32 bits) array into an integer (32 bits) in place? \n",
        "(**hint**: astype(copy=False))"
      ]
    },
    {
      "cell_type": "code",
      "execution_count": null,
      "metadata": {
        "id": "g9K8pZWrT9zN",
        "colab": {
          "base_uri": "https://localhost:8080/"
        },
        "outputId": "72e11898-b149-4bde-b82e-d58e603bf94f"
      },
      "outputs": [
        {
          "output_type": "execute_result",
          "data": {
            "text/plain": [
              "array([10, 20, 30, 40], dtype=int32)"
            ]
          },
          "metadata": {},
          "execution_count": 93
        }
      ],
      "source": [
        "arr = np.array([10,20,30,40], dtype = np.float32)\n",
        "\n",
        "arr = arr.astype(np.int32, copy= False)\n",
        "arr"
      ]
    },
    {
      "cell_type": "markdown",
      "metadata": {
        "id": "gbqY56z8T9zN"
      },
      "source": [
        "#### 54. How to read the following file? (★★☆) \n",
        "(**hint**: np.genfromtxt)"
      ]
    },
    {
      "cell_type": "markdown",
      "metadata": {
        "id": "SJsfRkpUT9zN"
      },
      "source": [
        "```\n",
        "1, 2, 3, 4, 5\n",
        "6,  ,  , 7, 8\n",
        " ,  , 9,10,11\n",
        "```"
      ]
    },
    {
      "cell_type": "code",
      "execution_count": null,
      "metadata": {
        "id": "LTp4BV0iT9zN",
        "colab": {
          "base_uri": "https://localhost:8080/"
        },
        "outputId": "29b598eb-6259-4971-8d1b-2ecc080cf9c3"
      },
      "outputs": [
        {
          "output_type": "stream",
          "name": "stdout",
          "text": [
            "[[ 1  2  3  4  5]\n",
            " [ 6 -1 -1  7  8]\n",
            " [-1 -1  9 10 11]]\n"
          ]
        },
        {
          "output_type": "stream",
          "name": "stderr",
          "text": [
            "/usr/local/lib/python3.7/dist-packages/ipykernel_launcher.py:7: DeprecationWarning: `np.int` is a deprecated alias for the builtin `int`. To silence this warning, use `int` by itself. Doing this will not modify any behavior and is safe. When replacing `np.int`, you may wish to use e.g. `np.int64` or `np.int32` to specify the precision. If you wish to review your current use, check the release note link for additional information.\n",
            "Deprecated in NumPy 1.20; for more details and guidance: https://numpy.org/devdocs/release/1.20.0-notes.html#deprecations\n",
            "  import sys\n"
          ]
        }
      ],
      "source": [
        "from io import StringIO\n",
        "\n",
        "# Fake file \n",
        "s = StringIO(\"\"\"1, 2, 3, 4, 5\\n\n",
        "                6,  ,  , 7, 8\\n\n",
        "                 ,  , 9,10,11\\n\"\"\")\n",
        "Z = np.genfromtxt(s, delimiter=\",\", dtype=np.int)\n",
        "print(Z)"
      ]
    },
    {
      "cell_type": "markdown",
      "metadata": {
        "id": "f49vsclyT9zN"
      },
      "source": [
        "#### 55. What is the equivalent of enumerate for numpy arrays? (★★☆) \n",
        "(**hint**: np.ndenumerate, np.ndindex)"
      ]
    },
    {
      "cell_type": "code",
      "execution_count": null,
      "metadata": {
        "id": "vIkmRXqNT9zN",
        "colab": {
          "base_uri": "https://localhost:8080/"
        },
        "outputId": "71344cbf-2a7b-40b6-a0cb-52cb06be68b1"
      },
      "outputs": [
        {
          "output_type": "stream",
          "name": "stdout",
          "text": [
            "(0, 0) 0\n",
            "(0, 1) 1\n",
            "(0, 2) 2\n",
            "(1, 0) 3\n",
            "(1, 1) 4\n",
            "(1, 2) 5\n",
            "(2, 0) 6\n",
            "(2, 1) 7\n",
            "(2, 2) 8\n",
            "(0, 0) 0\n",
            "(0, 1) 1\n",
            "(0, 2) 2\n",
            "(1, 0) 3\n",
            "(1, 1) 4\n",
            "(1, 2) 5\n",
            "(2, 0) 6\n",
            "(2, 1) 7\n",
            "(2, 2) 8\n"
          ]
        }
      ],
      "source": [
        "Z = np.arange(9).reshape(3,3)\n",
        "for index, value in np.ndenumerate(Z):\n",
        "    print(index, value)\n",
        "for index in np.ndindex(Z.shape):\n",
        "    print(index, Z[index])"
      ]
    },
    {
      "cell_type": "markdown",
      "metadata": {
        "id": "hAFgQCeeT9zO"
      },
      "source": [
        "#### 56. Generate a generic 2D Gaussian-like array (★★☆) \n",
        "(**hint**: np.meshgrid, np.exp)"
      ]
    },
    {
      "cell_type": "code",
      "execution_count": null,
      "metadata": {
        "id": "URNOpfMET9zO",
        "colab": {
          "base_uri": "https://localhost:8080/"
        },
        "outputId": "c6db776e-1c3e-404d-eccb-b19ead40b585"
      },
      "outputs": [
        {
          "output_type": "stream",
          "name": "stdout",
          "text": [
            "[[0.36787944 0.44822088 0.51979489 0.57375342 0.60279818 0.60279818\n",
            "  0.57375342 0.51979489 0.44822088 0.36787944]\n",
            " [0.44822088 0.54610814 0.63331324 0.69905581 0.73444367 0.73444367\n",
            "  0.69905581 0.63331324 0.54610814 0.44822088]\n",
            " [0.51979489 0.63331324 0.73444367 0.81068432 0.85172308 0.85172308\n",
            "  0.81068432 0.73444367 0.63331324 0.51979489]\n",
            " [0.57375342 0.69905581 0.81068432 0.89483932 0.9401382  0.9401382\n",
            "  0.89483932 0.81068432 0.69905581 0.57375342]\n",
            " [0.60279818 0.73444367 0.85172308 0.9401382  0.98773022 0.98773022\n",
            "  0.9401382  0.85172308 0.73444367 0.60279818]\n",
            " [0.60279818 0.73444367 0.85172308 0.9401382  0.98773022 0.98773022\n",
            "  0.9401382  0.85172308 0.73444367 0.60279818]\n",
            " [0.57375342 0.69905581 0.81068432 0.89483932 0.9401382  0.9401382\n",
            "  0.89483932 0.81068432 0.69905581 0.57375342]\n",
            " [0.51979489 0.63331324 0.73444367 0.81068432 0.85172308 0.85172308\n",
            "  0.81068432 0.73444367 0.63331324 0.51979489]\n",
            " [0.44822088 0.54610814 0.63331324 0.69905581 0.73444367 0.73444367\n",
            "  0.69905581 0.63331324 0.54610814 0.44822088]\n",
            " [0.36787944 0.44822088 0.51979489 0.57375342 0.60279818 0.60279818\n",
            "  0.57375342 0.51979489 0.44822088 0.36787944]]\n"
          ]
        }
      ],
      "source": [
        "X, Y = np.meshgrid(np.linspace(-1,1,10), np.linspace(-1,1,10))\n",
        "D = np.sqrt(X*X+Y*Y)\n",
        "sigma, mu = 1.0, 0.0\n",
        "G = np.exp(-( (D-mu)**2 / ( 2.0 * sigma**2 ) ) )\n",
        "print(G)"
      ]
    },
    {
      "cell_type": "markdown",
      "metadata": {
        "id": "h9m-oN9fT9zO"
      },
      "source": [
        "#### 57. How to randomly place p elements in a 2D array? (★★☆) \n",
        "(**hint**: np.put, np.random.choice)"
      ]
    },
    {
      "cell_type": "code",
      "execution_count": null,
      "metadata": {
        "id": "q99upBjkT9zO",
        "colab": {
          "base_uri": "https://localhost:8080/"
        },
        "outputId": "65eafca2-f98a-495e-fe45-eab8dae9fc03"
      },
      "outputs": [
        {
          "output_type": "stream",
          "name": "stdout",
          "text": [
            "[[0. 0. 0. 0. 0. 0. 0. 0. 0. 0.]\n",
            " [0. 0. 0. 0. 0. 0. 0. 1. 0. 0.]\n",
            " [0. 0. 0. 0. 0. 0. 0. 0. 0. 0.]\n",
            " [0. 0. 0. 0. 0. 0. 0. 0. 0. 0.]\n",
            " [0. 0. 0. 0. 0. 0. 0. 0. 0. 0.]\n",
            " [0. 0. 0. 0. 0. 0. 0. 0. 0. 0.]\n",
            " [0. 0. 0. 0. 0. 0. 0. 0. 0. 0.]\n",
            " [0. 0. 0. 0. 0. 0. 0. 0. 0. 0.]\n",
            " [0. 0. 0. 0. 0. 0. 0. 0. 0. 0.]\n",
            " [0. 0. 0. 0. 0. 1. 0. 0. 1. 0.]]\n"
          ]
        }
      ],
      "source": [
        "n = 10\n",
        "p = 3\n",
        "Z = np.zeros((n,n))\n",
        "np.put(Z, np.random.choice(range(n*n), p, replace=False),1)\n",
        "print(Z)"
      ]
    },
    {
      "cell_type": "markdown",
      "metadata": {
        "id": "DmkMO1rvT9zO"
      },
      "source": [
        "#### 58. Subtract the mean of each row of a matrix (★★☆) \n",
        "(**hint**: mean(axis=,keepdims=))"
      ]
    },
    {
      "cell_type": "code",
      "execution_count": null,
      "metadata": {
        "id": "Ygy3ymSKT9zO",
        "colab": {
          "base_uri": "https://localhost:8080/"
        },
        "outputId": "e54ec7a3-d8b3-4a8f-a389-ae9d32c2b3aa"
      },
      "outputs": [
        {
          "output_type": "stream",
          "name": "stdout",
          "text": [
            "[[ 0.15128563 -0.1178754   0.28509834 -0.21483616 -0.22786849  0.25977313\n",
            "  -0.14217972  0.02942636 -0.19641247  0.17358877]\n",
            " [ 0.23106634  0.30350559  0.01226737 -0.14220114 -0.26357829  0.03725027\n",
            "  -0.00299462  0.1700708  -0.16658743 -0.1787989 ]\n",
            " [-0.00590949  0.21775728 -0.2139272  -0.29424648  0.33145964 -0.36903797\n",
            "  -0.05226357  0.54630104  0.1116677  -0.27180094]\n",
            " [ 0.02018013  0.09266543  0.44239143  0.40424259 -0.42244909  0.27355433\n",
            "  -0.47098598  0.16863417 -0.53448518  0.02625217]\n",
            " [-0.40857181  0.11447668 -0.09164171 -0.09187666  0.5447803   0.12713359\n",
            "   0.41147405  0.04905712 -0.33806669 -0.31676487]]\n"
          ]
        }
      ],
      "source": [
        "X = np.random.rand(5, 10)\n",
        "\n",
        "# Recent versions of numpy\n",
        "Y = X - X.mean(axis=1, keepdims=True)\n",
        "\n",
        "print(Y)"
      ]
    },
    {
      "cell_type": "markdown",
      "metadata": {
        "id": "QR2VLpfKT9zO"
      },
      "source": [
        "#### 59. How to sort an array by the nth column? (★★☆) \n",
        "(**hint**: argsort)"
      ]
    },
    {
      "cell_type": "code",
      "execution_count": null,
      "metadata": {
        "id": "EYZQK7wIT9zO",
        "colab": {
          "base_uri": "https://localhost:8080/"
        },
        "outputId": "29621fc5-56d7-4904-8054-5b4a7507233f"
      },
      "outputs": [
        {
          "output_type": "stream",
          "name": "stdout",
          "text": [
            "[[3 5 5]\n",
            " [5 7 1]\n",
            " [6 7 6]]\n",
            "[[3 5 5]\n",
            " [5 7 1]\n",
            " [6 7 6]]\n"
          ]
        }
      ],
      "source": [
        "Z = np.random.randint(0,10,(3,3))\n",
        "print(Z)\n",
        "print(Z[Z[:,1].argsort()])"
      ]
    },
    {
      "cell_type": "markdown",
      "metadata": {
        "id": "hiOQm6FwT9zO"
      },
      "source": [
        "#### 60. How to tell if a given 2D array has null columns? (★★☆) \n",
        "(**hint**: any, ~)"
      ]
    },
    {
      "cell_type": "code",
      "execution_count": null,
      "metadata": {
        "id": "f1Q7-raLT9zP",
        "colab": {
          "base_uri": "https://localhost:8080/"
        },
        "outputId": "25753ab4-511e-4ebc-b617-f76fafbb640b"
      },
      "outputs": [
        {
          "output_type": "stream",
          "name": "stdout",
          "text": [
            "False\n"
          ]
        }
      ],
      "source": [
        "Z = np.random.randint(0,3,(3,10))\n",
        "print((~Z.any(axis=0)).any())"
      ]
    },
    {
      "cell_type": "markdown",
      "metadata": {
        "id": "0qnsfxCzT9zP"
      },
      "source": [
        "#### 61. Find the nearest value from a given value in an array (★★☆) \n",
        "(**hint**: np.abs, argmin, flat)"
      ]
    },
    {
      "cell_type": "code",
      "execution_count": null,
      "metadata": {
        "id": "W25Mk3FPT9zP",
        "colab": {
          "base_uri": "https://localhost:8080/"
        },
        "outputId": "2b5aca2a-39f2-4c80-8a42-3fb270c94089"
      },
      "outputs": [
        {
          "output_type": "stream",
          "name": "stdout",
          "text": [
            "0.5083043960188199\n"
          ]
        }
      ],
      "source": [
        "Z = np.random.uniform(0,1,10)\n",
        "z = 0.5\n",
        "m = Z.flat[np.abs(Z - z).argmin()]\n",
        "print(m)"
      ]
    },
    {
      "cell_type": "markdown",
      "metadata": {
        "id": "dl3daD0NT9zP"
      },
      "source": [
        "#### 62. Considering two arrays with shape (1,3) and (3,1), how to compute their sum using an iterator? (★★☆) \n",
        "(**hint**: np.nditer)"
      ]
    },
    {
      "cell_type": "code",
      "execution_count": null,
      "metadata": {
        "id": "rQYCN7OZT9zP",
        "colab": {
          "base_uri": "https://localhost:8080/"
        },
        "outputId": "842c9f70-5c85-4c87-f2b1-1241891cfadd"
      },
      "outputs": [
        {
          "output_type": "stream",
          "name": "stdout",
          "text": [
            "[[0 1 2]\n",
            " [1 2 3]\n",
            " [2 3 4]]\n"
          ]
        }
      ],
      "source": [
        "A = np.arange(3).reshape(3,1)\n",
        "B = np.arange(3).reshape(1,3)\n",
        "it = np.nditer([A,B,None])\n",
        "for x,y,z in it: z[...] = x + y\n",
        "print(it.operands[2])"
      ]
    },
    {
      "cell_type": "markdown",
      "metadata": {
        "id": "XsWct2sjT9zP"
      },
      "source": [
        "#### 63. Create an array class that has a name attribute (★★☆) \n",
        "(**hint**: class method)"
      ]
    },
    {
      "cell_type": "code",
      "execution_count": null,
      "metadata": {
        "id": "UAj0HKhuT9zP",
        "colab": {
          "base_uri": "https://localhost:8080/"
        },
        "outputId": "eaecc67d-76e2-47ef-d7ad-46d56b9d052a"
      },
      "outputs": [
        {
          "output_type": "stream",
          "name": "stdout",
          "text": [
            "range_10\n"
          ]
        }
      ],
      "source": [
        "class NamedArray(np.ndarray):\n",
        "    def __new__(cls, array, name=\"no name\"):\n",
        "        obj = np.asarray(array).view(cls)\n",
        "        obj.name = name\n",
        "        return obj\n",
        "    def __array_finalize__(self, obj):\n",
        "        if obj is None: return\n",
        "        self.info = getattr(obj, 'name', \"no name\")\n",
        "\n",
        "Z = NamedArray(np.arange(10), \"range_10\")\n",
        "print (Z.name)"
      ]
    },
    {
      "cell_type": "markdown",
      "metadata": {
        "id": "W7SQ5FeOT9zP"
      },
      "source": [
        "#### 64. Consider a given vector, how to add 1 to each element indexed by a second vector (be careful with repeated indices)? (★★★) \n",
        "(**hint**: np.bincount | np.add.at)"
      ]
    },
    {
      "cell_type": "code",
      "execution_count": null,
      "metadata": {
        "id": "9WCqwRwCT9zP",
        "colab": {
          "base_uri": "https://localhost:8080/"
        },
        "outputId": "d1220e15-876c-4236-8719-5e6f135c110e"
      },
      "outputs": [
        {
          "output_type": "stream",
          "name": "stdout",
          "text": [
            "[4. 3. 2. 4. 2. 3. 3. 1. 3. 5.]\n"
          ]
        }
      ],
      "source": [
        "Z = np.ones(10)\n",
        "I = np.random.randint(0,len(Z),20)\n",
        "Z += np.bincount(I, minlength=len(Z))\n",
        "print(Z)"
      ]
    },
    {
      "cell_type": "markdown",
      "metadata": {
        "id": "MsZawEdDT9zP"
      },
      "source": [
        "#### 65. How to accumulate elements of a vector (X) to an array (F) based on an index list (I)? (★★★) \n",
        "(**hint**: np.bincount)"
      ]
    },
    {
      "cell_type": "code",
      "execution_count": null,
      "metadata": {
        "id": "ZczJZA-wT9zQ",
        "colab": {
          "base_uri": "https://localhost:8080/"
        },
        "outputId": "ecd71f26-95df-4653-b6a4-def8cd483e03"
      },
      "outputs": [
        {
          "output_type": "stream",
          "name": "stdout",
          "text": [
            "[0. 7. 0. 6. 5. 0. 0. 0. 0. 3.]\n"
          ]
        }
      ],
      "source": [
        "X = [1,2,3,4,5,6]\n",
        "I = [1,3,9,3,4,1]\n",
        "F = np.bincount(I,X)\n",
        "print(F)"
      ]
    },
    {
      "cell_type": "markdown",
      "metadata": {
        "id": "Pmzh8Pd5T9zQ"
      },
      "source": [
        "#### 66. Considering a (w,h,3) image of (dtype=ubyte), compute the number of unique colors (★★★) \n",
        "(**hint**: np.unique)"
      ]
    },
    {
      "cell_type": "code",
      "execution_count": null,
      "metadata": {
        "id": "I1u68CO2T9zQ",
        "colab": {
          "base_uri": "https://localhost:8080/"
        },
        "outputId": "34cd4e4e-fe21-4729-9f50-5c92207841ad"
      },
      "outputs": [
        {
          "output_type": "stream",
          "name": "stdout",
          "text": [
            "8\n"
          ]
        }
      ],
      "source": [
        "w,h = 16,16\n",
        "I = np.random.randint(0,2,(h,w,3)).astype(np.ubyte)\n",
        "#Note that we should compute 256*256 first. \n",
        "#Otherwise numpy will only promote F.dtype to 'uint16' and overfolw will occur\n",
        "F = I[...,0]*(256*256) + I[...,1]*256 +I[...,2]\n",
        "n = len(np.unique(F))\n",
        "print(n)"
      ]
    },
    {
      "cell_type": "markdown",
      "metadata": {
        "id": "y6dm56MRT9zQ"
      },
      "source": [
        "#### 67. Considering a four dimensions array, how to get sum over the last two axis at once? (★★★) \n",
        "(**hint**: sum(axis=(-2,-1)))"
      ]
    },
    {
      "cell_type": "code",
      "execution_count": null,
      "metadata": {
        "id": "okKx7V1pT9zQ",
        "colab": {
          "base_uri": "https://localhost:8080/"
        },
        "outputId": "5fa718b0-9091-463e-a9de-d1339c57947e"
      },
      "outputs": [
        {
          "output_type": "stream",
          "name": "stdout",
          "text": [
            "[[55 73 46 32]\n",
            " [52 45 38 63]\n",
            " [56 51 50 43]]\n",
            "[[55 73 46 32]\n",
            " [52 45 38 63]\n",
            " [56 51 50 43]]\n"
          ]
        }
      ],
      "source": [
        "A = np.random.randint(0,10,(3,4,3,4))\n",
        "# solution by passing a tuple of axes (introduced in numpy 1.7.0)\n",
        "sum = A.sum(axis=(-2,-1))\n",
        "print(sum)\n",
        "# solution by flattening the last two dimensions into one\n",
        "# (useful for functions that don't accept tuples for axis argument)\n",
        "sum = A.reshape(A.shape[:-2] + (-1,)).sum(axis=-1)\n",
        "print(sum)"
      ]
    },
    {
      "cell_type": "markdown",
      "metadata": {
        "id": "OhXv0TKiT9zQ"
      },
      "source": [
        "#### 68. Considering a one-dimensional vector D, how to compute means of subsets of D using a vector S of same size describing subset  indices? (★★★) \n",
        "(**hint**: np.bincount)"
      ]
    },
    {
      "cell_type": "code",
      "execution_count": null,
      "metadata": {
        "id": "cp4YNp_fT9zQ",
        "colab": {
          "base_uri": "https://localhost:8080/"
        },
        "outputId": "f622a616-f0bd-45fa-baa2-d391fcdfce9b"
      },
      "outputs": [
        {
          "output_type": "stream",
          "name": "stdout",
          "text": [
            "[0.45283385 0.44060357 0.43799588 0.6500728  0.66710804 0.44558306\n",
            " 0.71909665 0.56467356 0.56537479 0.46960808]\n",
            "0    0.452834\n",
            "1    0.440604\n",
            "2    0.437996\n",
            "3    0.650073\n",
            "4    0.667108\n",
            "5    0.445583\n",
            "6    0.719097\n",
            "7    0.564674\n",
            "8    0.565375\n",
            "9    0.469608\n",
            "dtype: float64\n"
          ]
        }
      ],
      "source": [
        "D = np.random.uniform(0,1,100)\n",
        "S = np.random.randint(0,10,100)\n",
        "D_sums = np.bincount(S, weights=D)\n",
        "D_counts = np.bincount(S)\n",
        "D_means = D_sums / D_counts\n",
        "print(D_means)\n",
        "\n",
        "# Pandas solution as a reference due to more intuitive code\n",
        "import pandas as pd\n",
        "print(pd.Series(D).groupby(S).mean())"
      ]
    },
    {
      "cell_type": "markdown",
      "metadata": {
        "id": "hntFm0WIT9zR"
      },
      "source": [
        "#### 69. How to get the diagonal of a dot product? (★★★) \n",
        "(**hint**: np.diag)"
      ]
    },
    {
      "cell_type": "code",
      "execution_count": null,
      "metadata": {
        "id": "tdCNdQxFT9zR",
        "colab": {
          "base_uri": "https://localhost:8080/"
        },
        "outputId": "ec2e5e92-e381-4127-b1fc-d3272730bbc4"
      },
      "outputs": [
        {
          "output_type": "execute_result",
          "data": {
            "text/plain": [
              "array([1.39168929, 0.91763607, 1.20954394, 1.12598197, 1.33936176])"
            ]
          },
          "metadata": {},
          "execution_count": 113
        }
      ],
      "source": [
        "A = np.random.uniform(0,1,(5,5))\n",
        "B = np.random.uniform(0,1,(5,5))\n",
        "\n",
        "# Slow version  \n",
        "np.diag(np.dot(A, B))\n",
        "\n",
        "# Fast version\n",
        "np.sum(A * B.T, axis=1)\n",
        "\n",
        "# Faster version\n",
        "np.einsum(\"ij,ji->i\", A, B)"
      ]
    },
    {
      "cell_type": "markdown",
      "metadata": {
        "id": "JVAionSRT9zR"
      },
      "source": [
        "#### 70. Consider the vector \\[1, 2, 3, 4, 5\\], how to build a new vector with 3 consecutive zeros interleaved between each value? (★★★) \n",
        "(**hint**: array\\[::4\\])"
      ]
    },
    {
      "cell_type": "code",
      "execution_count": null,
      "metadata": {
        "id": "muiT1IVKT9zR",
        "colab": {
          "base_uri": "https://localhost:8080/"
        },
        "outputId": "03cb49ef-c972-41df-fe8b-63eda5a5952d"
      },
      "outputs": [
        {
          "output_type": "stream",
          "name": "stdout",
          "text": [
            "[1. 0. 0. 0. 2. 0. 0. 0. 3. 0. 0. 0. 4. 0. 0. 0. 5.]\n"
          ]
        }
      ],
      "source": [
        "Z = np.array([1,2,3,4,5])\n",
        "nz = 3\n",
        "Z0 = np.zeros(len(Z) + (len(Z)-1)*(nz))\n",
        "Z0[::nz+1] = Z\n",
        "print(Z0)"
      ]
    },
    {
      "cell_type": "markdown",
      "metadata": {
        "id": "4hDHI7lbT9zR"
      },
      "source": [
        "#### 71. Consider an array of dimension (5,5,3), how to mulitply it by an array with dimensions (5,5)? (★★★) \n",
        "(**hint**: array\\[:, :, None\\])"
      ]
    },
    {
      "cell_type": "code",
      "execution_count": null,
      "metadata": {
        "collapsed": true,
        "id": "CAJGoFfdT9zR",
        "colab": {
          "base_uri": "https://localhost:8080/"
        },
        "outputId": "a8f66e64-fe3a-44dc-8b7e-7f725b2cd918"
      },
      "outputs": [
        {
          "output_type": "stream",
          "name": "stdout",
          "text": [
            "[[[2. 2. 2.]\n",
            "  [2. 2. 2.]\n",
            "  [2. 2. 2.]\n",
            "  [2. 2. 2.]\n",
            "  [2. 2. 2.]]\n",
            "\n",
            " [[2. 2. 2.]\n",
            "  [2. 2. 2.]\n",
            "  [2. 2. 2.]\n",
            "  [2. 2. 2.]\n",
            "  [2. 2. 2.]]\n",
            "\n",
            " [[2. 2. 2.]\n",
            "  [2. 2. 2.]\n",
            "  [2. 2. 2.]\n",
            "  [2. 2. 2.]\n",
            "  [2. 2. 2.]]\n",
            "\n",
            " [[2. 2. 2.]\n",
            "  [2. 2. 2.]\n",
            "  [2. 2. 2.]\n",
            "  [2. 2. 2.]\n",
            "  [2. 2. 2.]]\n",
            "\n",
            " [[2. 2. 2.]\n",
            "  [2. 2. 2.]\n",
            "  [2. 2. 2.]\n",
            "  [2. 2. 2.]\n",
            "  [2. 2. 2.]]]\n"
          ]
        }
      ],
      "source": [
        "A = np.ones((5,5,3))\n",
        "B = 2*np.ones((5,5))\n",
        "print(A * B[:,:,None])"
      ]
    },
    {
      "cell_type": "markdown",
      "metadata": {
        "id": "wdMAhzOsT9zR"
      },
      "source": [
        "#### 72. How to swap two rows of an array? (★★★) \n",
        "(**hint**: array\\[\\[\\]\\] = array\\[\\[\\]\\])"
      ]
    },
    {
      "cell_type": "code",
      "execution_count": null,
      "metadata": {
        "id": "XfNsf0RPT9zR",
        "colab": {
          "base_uri": "https://localhost:8080/"
        },
        "outputId": "332c2ce2-d44b-42fe-959e-7829a70e69d9"
      },
      "outputs": [
        {
          "output_type": "stream",
          "name": "stdout",
          "text": [
            "[[ 5  6  7  8  9]\n",
            " [ 0  1  2  3  4]\n",
            " [10 11 12 13 14]\n",
            " [15 16 17 18 19]\n",
            " [20 21 22 23 24]]\n"
          ]
        }
      ],
      "source": [
        "A = np.arange(25).reshape(5,5)\n",
        "A[[0,1]] = A[[1,0]]\n",
        "print(A)"
      ]
    },
    {
      "cell_type": "markdown",
      "metadata": {
        "id": "lZ5vvW5iT9zR"
      },
      "source": [
        "#### 73. Consider a set of 10 triplets describing 10 triangles (with shared vertices), find the set of unique line segments composing all the  triangles (★★★) \n",
        "(**hint**: repeat, np.roll, np.sort, view, np.unique)"
      ]
    },
    {
      "cell_type": "code",
      "execution_count": null,
      "metadata": {
        "id": "iMTbOuK4T9zS",
        "colab": {
          "base_uri": "https://localhost:8080/"
        },
        "outputId": "1d150cbb-6777-479c-c358-974c9dcced61"
      },
      "outputs": [
        {
          "output_type": "stream",
          "name": "stdout",
          "text": [
            "[( 1, 13) ( 1, 59) ( 3,  8) ( 3, 79) ( 5, 15) ( 5, 92) ( 8, 79) (11, 39)\n",
            " (11, 91) (13, 59) (14, 23) (14, 80) (15, 92) (17, 63) (17, 88) (22, 66)\n",
            " (22, 71) (23, 80) (26, 38) (26, 46) (31, 85) (31, 99) (38, 46) (39, 91)\n",
            " (44, 47) (44, 53) (47, 53) (63, 88) (66, 71) (85, 99)]\n"
          ]
        }
      ],
      "source": [
        "faces = np.random.randint(0,100,(10,3))\n",
        "F = np.roll(faces.repeat(2,axis=1),-1,axis=1)\n",
        "F = F.reshape(len(F)*3,2)\n",
        "F = np.sort(F,axis=1)\n",
        "G = F.view( dtype=[('p0',F.dtype),('p1',F.dtype)] )\n",
        "G = np.unique(G)\n",
        "print(G)"
      ]
    },
    {
      "cell_type": "markdown",
      "metadata": {
        "id": "AtUnDN-fT9zS"
      },
      "source": [
        "#### 74. Given an array C that is a bincount, how to produce an array A such that np.bincount(A) == C? (★★★) \n",
        "(**hint**: np.repeat)"
      ]
    },
    {
      "cell_type": "code",
      "execution_count": null,
      "metadata": {
        "id": "kOIrZ4ZyT9zS",
        "colab": {
          "base_uri": "https://localhost:8080/"
        },
        "outputId": "44999c42-952c-4bd1-9f7f-ad98e8e46eea"
      },
      "outputs": [
        {
          "output_type": "stream",
          "name": "stdout",
          "text": [
            "[1 1 2 3 4 4 6]\n"
          ]
        }
      ],
      "source": [
        "C = np.bincount([1,1,2,3,4,4,6])\n",
        "A = np.repeat(np.arange(len(C)), C)\n",
        "print(A)"
      ]
    },
    {
      "cell_type": "markdown",
      "metadata": {
        "id": "AvNDX12YT9zS"
      },
      "source": [
        "#### 75. How to compute averages using a sliding window over an array? (★★★) \n",
        "(**hint**: np.cumsum)"
      ]
    },
    {
      "cell_type": "code",
      "execution_count": null,
      "metadata": {
        "id": "k687E9TbT9zS",
        "colab": {
          "base_uri": "https://localhost:8080/"
        },
        "outputId": "23bdb01c-442c-4981-9ec6-020eef700f9a"
      },
      "outputs": [
        {
          "output_type": "stream",
          "name": "stdout",
          "text": [
            "[ 1.  2.  3.  4.  5.  6.  7.  8.  9. 10. 11. 12. 13. 14. 15. 16. 17. 18.]\n"
          ]
        }
      ],
      "source": [
        "def moving_average(a, n=3) :\n",
        "    ret = np.cumsum(a, dtype=float)\n",
        "    ret[n:] = ret[n:] - ret[:-n]\n",
        "    return ret[n - 1:] / n\n",
        "Z = np.arange(20)\n",
        "print(moving_average(Z, n=3))"
      ]
    },
    {
      "cell_type": "markdown",
      "metadata": {
        "id": "lk04ksiFT9zS"
      },
      "source": [
        "#### 76. Consider a one-dimensional array Z, build a two-dimensional array whose first row is (Z\\[0\\],Z\\[1\\],Z\\[2\\]) and each subsequent row is  shifted by 1 (last row should be (Z\\[-3\\],Z\\[-2\\],Z\\[-1\\]) (★★★) \n",
        "(**hint**: from numpy.lib import stride_tricks)"
      ]
    },
    {
      "cell_type": "code",
      "execution_count": null,
      "metadata": {
        "id": "A6uEaUZpT9zS",
        "colab": {
          "base_uri": "https://localhost:8080/"
        },
        "outputId": "e125c41b-4081-4cec-c879-a7db9ba38677"
      },
      "outputs": [
        {
          "output_type": "stream",
          "name": "stdout",
          "text": [
            "[[0 1 2]\n",
            " [1 2 3]\n",
            " [2 3 4]\n",
            " [3 4 5]\n",
            " [4 5 6]\n",
            " [5 6 7]\n",
            " [6 7 8]\n",
            " [7 8 9]]\n"
          ]
        }
      ],
      "source": [
        "from numpy.lib import stride_tricks\n",
        "\n",
        "def rolling(a, window):\n",
        "    shape = (a.size - window + 1, window)\n",
        "    strides = (a.itemsize, a.itemsize)\n",
        "    return stride_tricks.as_strided(a, shape=shape, strides=strides)\n",
        "Z = rolling(np.arange(10), 3)\n",
        "print(Z)"
      ]
    },
    {
      "cell_type": "markdown",
      "metadata": {
        "id": "NNGPKDH6T9zS"
      },
      "source": [
        "#### 77. How to negate a boolean, or to change the sign of a float inplace? (★★★) \n",
        "(**hint**: np.logical_not, np.negative)"
      ]
    },
    {
      "cell_type": "code",
      "execution_count": null,
      "metadata": {
        "id": "edVt2Q-5T9zS",
        "colab": {
          "base_uri": "https://localhost:8080/"
        },
        "outputId": "5c714832-8d4c-411d-cd0a-7112b850fe8b"
      },
      "outputs": [
        {
          "output_type": "execute_result",
          "data": {
            "text/plain": [
              "array([-0.27632301,  0.48492819,  0.28465156,  0.87992181,  0.51626394,\n",
              "       -0.78055322,  0.51624093, -0.78542477,  0.80033035,  0.46024336,\n",
              "        0.36933525,  0.32491228,  0.34895647,  0.69628299, -0.49691183,\n",
              "        0.3584768 , -0.48853256,  0.76895961, -0.21941106,  0.02196341,\n",
              "       -0.16003028, -0.5505318 , -0.02813138,  0.16793852, -0.11375547,\n",
              "        0.33114744,  0.77249076,  0.23903453, -0.16409172,  0.16335355,\n",
              "        0.33795543,  0.762629  ,  0.66341553, -0.80844093, -0.1301618 ,\n",
              "        0.05319236, -0.30946984,  0.81767339,  0.77895023,  0.96073351,\n",
              "        0.25597505,  0.41651439,  0.76176697, -0.84056021, -0.13631805,\n",
              "       -0.53214673,  0.72330501, -0.03695653, -0.32584984,  0.91350211,\n",
              "       -0.37635746, -0.39399797, -0.4615762 , -0.40669206, -0.39192466,\n",
              "       -0.29104697, -0.75317024, -0.71833767,  0.45265997,  0.67894045,\n",
              "       -0.26177749, -0.11611026,  0.73403164,  0.40892673,  0.24820746,\n",
              "        0.01561369,  0.90351878, -0.81707477, -0.54526612, -0.6083267 ,\n",
              "        0.1369182 , -0.82083585, -0.1538444 , -0.44546588, -0.95127419,\n",
              "       -0.83321269, -0.09639147,  0.97539705,  0.52682335,  0.49019554,\n",
              "       -0.67462145, -0.30508741, -0.50545895, -0.16561237, -0.23647197,\n",
              "       -0.64341862, -0.92012212,  0.81612648, -0.12868117, -0.5753471 ,\n",
              "       -0.93015295,  0.96090978, -0.00469821, -0.64103085,  0.64792999,\n",
              "        0.6150697 , -0.95224351, -0.80136071, -0.75469122, -0.94736604])"
            ]
          },
          "metadata": {},
          "execution_count": 121
        }
      ],
      "source": [
        "Z = np.random.randint(0,2,100)\n",
        "np.logical_not(Z, out=Z)\n",
        "\n",
        "Z = np.random.uniform(-1.0,1.0,100)\n",
        "np.negative(Z, out=Z)"
      ]
    },
    {
      "cell_type": "markdown",
      "metadata": {
        "id": "1HYtjnvXT9zT"
      },
      "source": [
        "#### 78. Consider 2 sets of points P0,P1 describing lines (2d) and a point p, how to compute distance from p to each line i  (P0\\[i\\],P1\\[i\\])? (★★★)"
      ]
    },
    {
      "cell_type": "code",
      "execution_count": null,
      "metadata": {
        "id": "z2DaprtfT9zT",
        "colab": {
          "base_uri": "https://localhost:8080/"
        },
        "outputId": "193f9e18-7e30-47d0-f619-a5002d5cb9f8"
      },
      "outputs": [
        {
          "output_type": "stream",
          "name": "stdout",
          "text": [
            "[3.97323762 4.62160805 5.46307666 0.9164781  3.81951621 6.86549337\n",
            " 5.12315376 5.00508126 2.27348863 8.41396733]\n"
          ]
        }
      ],
      "source": [
        "def distance(P0, P1, p):\n",
        "    T = P1 - P0\n",
        "    L = (T**2).sum(axis=1)\n",
        "    U = -((P0[:,0]-p[...,0])*T[:,0] + (P0[:,1]-p[...,1])*T[:,1]) / L\n",
        "    U = U.reshape(len(U),1)\n",
        "    D = P0 + U*T - p\n",
        "    return np.sqrt((D**2).sum(axis=1))\n",
        "\n",
        "P0 = np.random.uniform(-10,10,(10,2))\n",
        "P1 = np.random.uniform(-10,10,(10,2))\n",
        "p  = np.random.uniform(-10,10,( 1,2))\n",
        "print(distance(P0, P1, p))"
      ]
    },
    {
      "cell_type": "markdown",
      "metadata": {
        "id": "QJA-tfNoT9zT"
      },
      "source": [
        "#### 79. Consider 2 sets of points P0,P1 describing lines (2d) and a set of points P, how to compute distance from each point j (P\\[j\\]) to each line i (P0\\[i\\],P1\\[i\\])? (★★★)"
      ]
    },
    {
      "cell_type": "code",
      "execution_count": null,
      "metadata": {
        "id": "2cBgbnfQT9zT",
        "colab": {
          "base_uri": "https://localhost:8080/"
        },
        "outputId": "621d503e-1f41-455a-f99f-c78b9003090d"
      },
      "outputs": [
        {
          "output_type": "stream",
          "name": "stdout",
          "text": [
            "[[ 8.76461929  1.84929838  5.04857573  6.19039084  1.63660851  7.72685077\n",
            "   5.12527769  8.3064997   9.56952877  7.13763342]\n",
            " [12.02039468  6.82064562  2.36280162  0.8030374   5.94147461 10.63185382\n",
            "   1.46907667  0.3305749   5.95099988  1.43255406]\n",
            " [ 5.34967187  1.88308187  3.8056859  10.09353319  3.53286164  4.40331262\n",
            "   4.36377498 10.67618513  8.7885402   7.55897379]\n",
            " [ 3.27907956  6.60459253  0.58461485  9.38576832  0.73871045  2.14046043\n",
            "   0.21519734  6.74195781  4.215693    2.83172569]\n",
            " [ 0.24430407 16.87884059  9.78812609  6.7165173  10.59054528  1.82809695\n",
            "   9.96873494  2.51187939  5.51887374  7.58650887]\n",
            " [ 8.83071247  5.44988946  2.28672104  3.7597161   2.55312961  7.60143505\n",
            "   1.98597691  4.14612177  6.44434816  3.31244099]\n",
            " [ 0.04010438  8.77741233  3.44813441 11.77995592  1.36351094  1.20262746\n",
            "   2.82958415  6.60020513  1.59053334  0.97303545]\n",
            " [15.21826211  2.1973527  10.47850043  1.41881203  2.64609078 14.21758952\n",
            "  10.05259998  8.37867454 14.51847671 10.56283805]\n",
            " [ 3.71115435 18.26071502  9.44779842  1.26628814 14.42566905  1.94661525\n",
            "  10.33124647  6.88016868  5.8533924   9.58069235]\n",
            " [ 9.76481516  0.75072637  7.41631772  6.74109534  4.06821646  8.83674087\n",
            "   7.61679765 10.5717382  12.05687147  9.7595631 ]]\n"
          ]
        }
      ],
      "source": [
        "P0 = np.random.uniform(-10, 10, (10,2))\n",
        "P1 = np.random.uniform(-10,10,(10,2))\n",
        "p = np.random.uniform(-10, 10, (10,2))\n",
        "print(np.array([distance(P0,P1,p_i) for p_i in p]))"
      ]
    },
    {
      "cell_type": "markdown",
      "metadata": {
        "id": "zqpRaNr2T9zT"
      },
      "source": [
        "#### 80. Consider an arbitrary array, write a function that extract a subpart with a fixed shape and centered on a given element (pad with a `fill` value when necessary) (★★★) \n",
        "(**hint**: minimum, maximum)"
      ]
    },
    {
      "cell_type": "code",
      "execution_count": null,
      "metadata": {
        "id": "lbXzjqGyT9zT",
        "colab": {
          "base_uri": "https://localhost:8080/"
        },
        "outputId": "f2ca56df-c30b-45dd-a7c4-e3a8b272caa4"
      },
      "outputs": [
        {
          "output_type": "stream",
          "name": "stdout",
          "text": [
            "[[9 0 7 4 1 6 2 9 6 6]\n",
            " [9 5 7 8 1 2 9 2 2 5]\n",
            " [3 6 4 8 1 0 2 0 3 7]\n",
            " [5 3 2 6 6 7 3 0 2 4]\n",
            " [3 9 5 7 6 8 2 2 1 5]\n",
            " [1 4 6 0 4 9 2 1 9 0]\n",
            " [1 8 2 3 6 3 0 4 8 4]\n",
            " [4 1 7 3 1 0 2 0 5 5]\n",
            " [5 5 6 4 0 3 4 4 3 7]\n",
            " [5 6 7 8 9 1 3 8 3 3]]\n",
            "[[0 0 0 0 0]\n",
            " [0 9 0 7 4]\n",
            " [0 9 5 7 8]\n",
            " [0 3 6 4 8]\n",
            " [0 5 3 2 6]]\n"
          ]
        },
        {
          "output_type": "stream",
          "name": "stderr",
          "text": [
            "/usr/local/lib/python3.7/dist-packages/ipykernel_launcher.py:23: FutureWarning: Using a non-tuple sequence for multidimensional indexing is deprecated; use `arr[tuple(seq)]` instead of `arr[seq]`. In the future this will be interpreted as an array index, `arr[np.array(seq)]`, which will result either in an error or a different result.\n"
          ]
        }
      ],
      "source": [
        "Z = np.random.randint(0,10,(10,10))\n",
        "shape = (5,5)\n",
        "fill  = 0\n",
        "position = (1,1)\n",
        "\n",
        "R = np.ones(shape, dtype=Z.dtype)*fill\n",
        "P  = np.array(list(position)).astype(int)\n",
        "Rs = np.array(list(R.shape)).astype(int)\n",
        "Zs = np.array(list(Z.shape)).astype(int)\n",
        "\n",
        "R_start = np.zeros((len(shape),)).astype(int)\n",
        "R_stop  = np.array(list(shape)).astype(int)\n",
        "Z_start = (P-Rs//2)\n",
        "Z_stop  = (P+Rs//2)+Rs%2\n",
        "\n",
        "R_start = (R_start - np.minimum(Z_start,0)).tolist()\n",
        "Z_start = (np.maximum(Z_start,0)).tolist()\n",
        "R_stop = np.maximum(R_start, (R_stop - np.maximum(Z_stop-Zs,0))).tolist()\n",
        "Z_stop = (np.minimum(Z_stop,Zs)).tolist()\n",
        "\n",
        "r = [slice(start,stop) for start,stop in zip(R_start,R_stop)]\n",
        "z = [slice(start,stop) for start,stop in zip(Z_start,Z_stop)]\n",
        "R[r] = Z[z]\n",
        "print(Z)\n",
        "print(R)"
      ]
    },
    {
      "cell_type": "markdown",
      "metadata": {
        "id": "xo9wVufxT9zT"
      },
      "source": [
        "#### 81. Consider an array Z = \\[1,2,3,4,5,6,7,8,9,10,11,12,13,14\\], how to generate an array R = \\[\\[1,2,3,4\\], \\[2,3,4,5\\], \\[3,4,5,6\\], ..., \\[11,12,13,14\\]\\]? (★★★) \n",
        "(**hint**: stride\\_tricks.as\\_strided)"
      ]
    },
    {
      "cell_type": "code",
      "execution_count": null,
      "metadata": {
        "id": "SPnCvmgXT9zU",
        "colab": {
          "base_uri": "https://localhost:8080/"
        },
        "outputId": "f8ac46e6-a37f-4977-da97-697318913072"
      },
      "outputs": [
        {
          "output_type": "stream",
          "name": "stdout",
          "text": [
            "[[ 1  2  3  4]\n",
            " [ 2  3  4  5]\n",
            " [ 3  4  5  6]\n",
            " [ 4  5  6  7]\n",
            " [ 5  6  7  8]\n",
            " [ 6  7  8  9]\n",
            " [ 7  8  9 10]\n",
            " [ 8  9 10 11]\n",
            " [ 9 10 11 12]\n",
            " [10 11 12 13]\n",
            " [11 12 13 14]]\n"
          ]
        }
      ],
      "source": [
        "Z = np.arange(1,15,dtype=np.uint32)\n",
        "R = stride_tricks.as_strided(Z,(11,4),(4,4))\n",
        "print(R)"
      ]
    },
    {
      "cell_type": "markdown",
      "metadata": {
        "id": "sK2F73RZT9zU"
      },
      "source": [
        "#### 82. Compute a matrix rank (★★★) \n",
        "(**hint**: np.linalg.svd) (suggestion: np.linalg.svd)"
      ]
    },
    {
      "cell_type": "code",
      "execution_count": null,
      "metadata": {
        "id": "LvcOLXdGT9zU",
        "colab": {
          "base_uri": "https://localhost:8080/"
        },
        "outputId": "77455a84-667a-43af-f2b6-4f645fc5c2ee"
      },
      "outputs": [
        {
          "output_type": "stream",
          "name": "stdout",
          "text": [
            "10\n"
          ]
        }
      ],
      "source": [
        "Z = np.random.uniform(0,1,(10,10))\n",
        "U, S, V = np.linalg.svd(Z) # Singular Value Decomposition\n",
        "rank = np.sum(S > 1e-10)\n",
        "print(rank)"
      ]
    },
    {
      "cell_type": "markdown",
      "metadata": {
        "id": "hsbnTK9TT9zU"
      },
      "source": [
        "#### 83. How to find the most frequent value in an array? \n",
        "(**hint**: np.bincount, argmax)"
      ]
    },
    {
      "cell_type": "code",
      "execution_count": null,
      "metadata": {
        "id": "hs6Ol0JLT9zV",
        "colab": {
          "base_uri": "https://localhost:8080/"
        },
        "outputId": "0d79ce59-0401-48b0-ed02-047a7c04198a"
      },
      "outputs": [
        {
          "output_type": "stream",
          "name": "stdout",
          "text": [
            "6\n"
          ]
        }
      ],
      "source": [
        "Z = np.random.randint(0,10,50)\n",
        "print(np.bincount(Z).argmax())"
      ]
    },
    {
      "cell_type": "markdown",
      "metadata": {
        "id": "f8seJUCLT9zV"
      },
      "source": [
        "#### 84. Extract all the contiguous 3x3 blocks from a random 10x10 matrix (★★★) \n",
        "(**hint**: stride\\_tricks.as\\_strided)"
      ]
    },
    {
      "cell_type": "code",
      "execution_count": null,
      "metadata": {
        "id": "XeSdkPQAT9zV",
        "colab": {
          "base_uri": "https://localhost:8080/"
        },
        "outputId": "84fc149e-f0e3-421f-a874-c7549a4e3208"
      },
      "outputs": [
        {
          "output_type": "stream",
          "name": "stdout",
          "text": [
            "[[[[0 1 3]\n",
            "   [0 2 3]\n",
            "   [4 2 1]]\n",
            "\n",
            "  [[1 3 2]\n",
            "   [2 3 0]\n",
            "   [2 1 0]]\n",
            "\n",
            "  [[3 2 3]\n",
            "   [3 0 1]\n",
            "   [1 0 0]]\n",
            "\n",
            "  [[2 3 0]\n",
            "   [0 1 3]\n",
            "   [0 0 2]]\n",
            "\n",
            "  [[3 0 1]\n",
            "   [1 3 1]\n",
            "   [0 2 0]]\n",
            "\n",
            "  [[0 1 1]\n",
            "   [3 1 0]\n",
            "   [2 0 2]]\n",
            "\n",
            "  [[1 1 2]\n",
            "   [1 0 4]\n",
            "   [0 2 1]]\n",
            "\n",
            "  [[1 2 3]\n",
            "   [0 4 2]\n",
            "   [2 1 0]]]\n",
            "\n",
            "\n",
            " [[[0 2 3]\n",
            "   [4 2 1]\n",
            "   [4 0 1]]\n",
            "\n",
            "  [[2 3 0]\n",
            "   [2 1 0]\n",
            "   [0 1 3]]\n",
            "\n",
            "  [[3 0 1]\n",
            "   [1 0 0]\n",
            "   [1 3 3]]\n",
            "\n",
            "  [[0 1 3]\n",
            "   [0 0 2]\n",
            "   [3 3 4]]\n",
            "\n",
            "  [[1 3 1]\n",
            "   [0 2 0]\n",
            "   [3 4 1]]\n",
            "\n",
            "  [[3 1 0]\n",
            "   [2 0 2]\n",
            "   [4 1 2]]\n",
            "\n",
            "  [[1 0 4]\n",
            "   [0 2 1]\n",
            "   [1 2 0]]\n",
            "\n",
            "  [[0 4 2]\n",
            "   [2 1 0]\n",
            "   [2 0 1]]]\n",
            "\n",
            "\n",
            " [[[4 2 1]\n",
            "   [4 0 1]\n",
            "   [3 2 0]]\n",
            "\n",
            "  [[2 1 0]\n",
            "   [0 1 3]\n",
            "   [2 0 2]]\n",
            "\n",
            "  [[1 0 0]\n",
            "   [1 3 3]\n",
            "   [0 2 1]]\n",
            "\n",
            "  [[0 0 2]\n",
            "   [3 3 4]\n",
            "   [2 1 4]]\n",
            "\n",
            "  [[0 2 0]\n",
            "   [3 4 1]\n",
            "   [1 4 1]]\n",
            "\n",
            "  [[2 0 2]\n",
            "   [4 1 2]\n",
            "   [4 1 3]]\n",
            "\n",
            "  [[0 2 1]\n",
            "   [1 2 0]\n",
            "   [1 3 4]]\n",
            "\n",
            "  [[2 1 0]\n",
            "   [2 0 1]\n",
            "   [3 4 1]]]\n",
            "\n",
            "\n",
            " [[[4 0 1]\n",
            "   [3 2 0]\n",
            "   [3 2 3]]\n",
            "\n",
            "  [[0 1 3]\n",
            "   [2 0 2]\n",
            "   [2 3 0]]\n",
            "\n",
            "  [[1 3 3]\n",
            "   [0 2 1]\n",
            "   [3 0 2]]\n",
            "\n",
            "  [[3 3 4]\n",
            "   [2 1 4]\n",
            "   [0 2 2]]\n",
            "\n",
            "  [[3 4 1]\n",
            "   [1 4 1]\n",
            "   [2 2 0]]\n",
            "\n",
            "  [[4 1 2]\n",
            "   [4 1 3]\n",
            "   [2 0 0]]\n",
            "\n",
            "  [[1 2 0]\n",
            "   [1 3 4]\n",
            "   [0 0 1]]\n",
            "\n",
            "  [[2 0 1]\n",
            "   [3 4 1]\n",
            "   [0 1 1]]]\n",
            "\n",
            "\n",
            " [[[3 2 0]\n",
            "   [3 2 3]\n",
            "   [3 4 3]]\n",
            "\n",
            "  [[2 0 2]\n",
            "   [2 3 0]\n",
            "   [4 3 0]]\n",
            "\n",
            "  [[0 2 1]\n",
            "   [3 0 2]\n",
            "   [3 0 1]]\n",
            "\n",
            "  [[2 1 4]\n",
            "   [0 2 2]\n",
            "   [0 1 4]]\n",
            "\n",
            "  [[1 4 1]\n",
            "   [2 2 0]\n",
            "   [1 4 3]]\n",
            "\n",
            "  [[4 1 3]\n",
            "   [2 0 0]\n",
            "   [4 3 0]]\n",
            "\n",
            "  [[1 3 4]\n",
            "   [0 0 1]\n",
            "   [3 0 4]]\n",
            "\n",
            "  [[3 4 1]\n",
            "   [0 1 1]\n",
            "   [0 4 4]]]\n",
            "\n",
            "\n",
            " [[[3 2 3]\n",
            "   [3 4 3]\n",
            "   [0 3 0]]\n",
            "\n",
            "  [[2 3 0]\n",
            "   [4 3 0]\n",
            "   [3 0 3]]\n",
            "\n",
            "  [[3 0 2]\n",
            "   [3 0 1]\n",
            "   [0 3 3]]\n",
            "\n",
            "  [[0 2 2]\n",
            "   [0 1 4]\n",
            "   [3 3 3]]\n",
            "\n",
            "  [[2 2 0]\n",
            "   [1 4 3]\n",
            "   [3 3 3]]\n",
            "\n",
            "  [[2 0 0]\n",
            "   [4 3 0]\n",
            "   [3 3 4]]\n",
            "\n",
            "  [[0 0 1]\n",
            "   [3 0 4]\n",
            "   [3 4 2]]\n",
            "\n",
            "  [[0 1 1]\n",
            "   [0 4 4]\n",
            "   [4 2 1]]]\n",
            "\n",
            "\n",
            " [[[3 4 3]\n",
            "   [0 3 0]\n",
            "   [0 4 3]]\n",
            "\n",
            "  [[4 3 0]\n",
            "   [3 0 3]\n",
            "   [4 3 4]]\n",
            "\n",
            "  [[3 0 1]\n",
            "   [0 3 3]\n",
            "   [3 4 3]]\n",
            "\n",
            "  [[0 1 4]\n",
            "   [3 3 3]\n",
            "   [4 3 2]]\n",
            "\n",
            "  [[1 4 3]\n",
            "   [3 3 3]\n",
            "   [3 2 4]]\n",
            "\n",
            "  [[4 3 0]\n",
            "   [3 3 4]\n",
            "   [2 4 2]]\n",
            "\n",
            "  [[3 0 4]\n",
            "   [3 4 2]\n",
            "   [4 2 0]]\n",
            "\n",
            "  [[0 4 4]\n",
            "   [4 2 1]\n",
            "   [2 0 1]]]\n",
            "\n",
            "\n",
            " [[[0 3 0]\n",
            "   [0 4 3]\n",
            "   [4 2 2]]\n",
            "\n",
            "  [[3 0 3]\n",
            "   [4 3 4]\n",
            "   [2 2 2]]\n",
            "\n",
            "  [[0 3 3]\n",
            "   [3 4 3]\n",
            "   [2 2 4]]\n",
            "\n",
            "  [[3 3 3]\n",
            "   [4 3 2]\n",
            "   [2 4 0]]\n",
            "\n",
            "  [[3 3 3]\n",
            "   [3 2 4]\n",
            "   [4 0 4]]\n",
            "\n",
            "  [[3 3 4]\n",
            "   [2 4 2]\n",
            "   [0 4 4]]\n",
            "\n",
            "  [[3 4 2]\n",
            "   [4 2 0]\n",
            "   [4 4 4]]\n",
            "\n",
            "  [[4 2 1]\n",
            "   [2 0 1]\n",
            "   [4 4 4]]]]\n"
          ]
        }
      ],
      "source": [
        "Z = np.random.randint(0,5,(10,10))\n",
        "n = 3\n",
        "i = 1 + (Z.shape[0]-3)\n",
        "j = 1 + (Z.shape[1]-3)\n",
        "C = stride_tricks.as_strided(Z, shape=(i, j, n, n), strides=Z.strides + Z.strides)\n",
        "print(C)"
      ]
    },
    {
      "cell_type": "markdown",
      "metadata": {
        "id": "aDYDzqDbT9zV"
      },
      "source": [
        "#### 85. Create a 2D array subclass such that Z\\[i,j\\] == Z\\[j,i\\] (★★★) \n",
        "(**hint**: class method)"
      ]
    },
    {
      "cell_type": "code",
      "execution_count": null,
      "metadata": {
        "id": "g0rNvpO2T9zV",
        "colab": {
          "base_uri": "https://localhost:8080/"
        },
        "outputId": "6531eef3-7c2c-4eac-da83-42c6a22d0cd9"
      },
      "outputs": [
        {
          "output_type": "stream",
          "name": "stdout",
          "text": [
            "[[ 5 10  9  7  2]\n",
            " [10  2  9 13 16]\n",
            " [ 9  9  9 42  0]\n",
            " [ 7 13 42  4 13]\n",
            " [ 2 16  0 13  2]]\n"
          ]
        }
      ],
      "source": [
        "class Symetric(np.ndarray):\n",
        "    def __setitem__(self, index, value):\n",
        "        i,j = index\n",
        "        super(Symetric, self).__setitem__((i,j), value)\n",
        "        super(Symetric, self).__setitem__((j,i), value)\n",
        "\n",
        "def symetric(Z):\n",
        "    return np.asarray(Z + Z.T - np.diag(Z.diagonal())).view(Symetric)\n",
        "\n",
        "S = symetric(np.random.randint(0,10,(5,5)))\n",
        "S[2,3] = 42\n",
        "print(S)"
      ]
    },
    {
      "cell_type": "markdown",
      "metadata": {
        "id": "GMAtzuE_T9zW"
      },
      "source": [
        "#### 86. Consider a set of p matrices wich shape (n,n) and a set of p vectors with shape (n,1). How to compute the sum of of the p matrix products at once? (result has shape (n,1)) (★★★) \n",
        "(**hint**: np.tensordot)"
      ]
    },
    {
      "cell_type": "code",
      "execution_count": null,
      "metadata": {
        "id": "ApaloFP0T9zW",
        "colab": {
          "base_uri": "https://localhost:8080/"
        },
        "outputId": "a7d4e1e4-a91a-4dde-e813-07cb286a999b"
      },
      "outputs": [
        {
          "output_type": "stream",
          "name": "stdout",
          "text": [
            "[[200.]\n",
            " [200.]\n",
            " [200.]\n",
            " [200.]\n",
            " [200.]\n",
            " [200.]\n",
            " [200.]\n",
            " [200.]\n",
            " [200.]\n",
            " [200.]\n",
            " [200.]\n",
            " [200.]\n",
            " [200.]\n",
            " [200.]\n",
            " [200.]\n",
            " [200.]\n",
            " [200.]\n",
            " [200.]\n",
            " [200.]\n",
            " [200.]]\n"
          ]
        }
      ],
      "source": [
        "p, n = 10, 20\n",
        "M = np.ones((p,n,n))\n",
        "V = np.ones((p,n,1))\n",
        "S = np.tensordot(M, V, axes=[[0, 2], [0, 1]])\n",
        "print(S)"
      ]
    },
    {
      "cell_type": "markdown",
      "metadata": {
        "id": "uWYLkGAhT9zW"
      },
      "source": [
        "#### 87. Consider a 16x16 array, how to get the block-sum (block size is 4x4)? (★★★) \n",
        "(**hint**: np.add.reduceat)"
      ]
    },
    {
      "cell_type": "code",
      "execution_count": null,
      "metadata": {
        "id": "A87uoAbLT9zW",
        "colab": {
          "base_uri": "https://localhost:8080/"
        },
        "outputId": "0798377f-f58c-4af7-871c-d977b6222af4"
      },
      "outputs": [
        {
          "output_type": "stream",
          "name": "stdout",
          "text": [
            "[[16. 16. 16. 16.]\n",
            " [16. 16. 16. 16.]\n",
            " [16. 16. 16. 16.]\n",
            " [16. 16. 16. 16.]]\n"
          ]
        }
      ],
      "source": [
        "Z = np.ones((16,16))\n",
        "k = 4\n",
        "S = np.add.reduceat(np.add.reduceat(Z, np.arange(0, Z.shape[0], k), axis=0),\n",
        "                                       np.arange(0, Z.shape[1], k), axis=1)\n",
        "print(S)"
      ]
    },
    {
      "cell_type": "markdown",
      "metadata": {
        "id": "btiw8egaT9zW"
      },
      "source": [
        "#### 88. How to implement the Game of Life using numpy arrays? (★★★)"
      ]
    },
    {
      "cell_type": "code",
      "execution_count": null,
      "metadata": {
        "id": "J-S1BadMT9zW",
        "colab": {
          "base_uri": "https://localhost:8080/"
        },
        "outputId": "c3879b67-2cd1-4ad2-9695-c7e2a4af9cfb"
      },
      "outputs": [
        {
          "output_type": "stream",
          "name": "stdout",
          "text": [
            "[[0 0 0 ... 0 0 0]\n",
            " [0 0 0 ... 0 0 0]\n",
            " [0 0 0 ... 0 0 0]\n",
            " ...\n",
            " [0 0 0 ... 0 0 0]\n",
            " [0 0 0 ... 0 0 0]\n",
            " [0 0 0 ... 0 0 0]]\n"
          ]
        }
      ],
      "source": [
        "def iterate(Z):\n",
        "    # Count neighbours\n",
        "    N = (Z[0:-2,0:-2] + Z[0:-2,1:-1] + Z[0:-2,2:] +\n",
        "         Z[1:-1,0:-2]                + Z[1:-1,2:] +\n",
        "         Z[2:  ,0:-2] + Z[2:  ,1:-1] + Z[2:  ,2:])\n",
        "\n",
        "    # Apply rules\n",
        "    birth = (N==3) & (Z[1:-1,1:-1]==0)\n",
        "    survive = ((N==2) | (N==3)) & (Z[1:-1,1:-1]==1)\n",
        "    Z[...] = 0\n",
        "    Z[1:-1,1:-1][birth | survive] = 1\n",
        "    return Z\n",
        "\n",
        "Z = np.random.randint(0,2,(50,50))\n",
        "for i in range(100): Z = iterate(Z)\n",
        "print(Z)"
      ]
    },
    {
      "cell_type": "markdown",
      "metadata": {
        "id": "DX0EB2hgT9zX"
      },
      "source": [
        "#### 89. How to get the n largest values of an array (★★★) \n",
        "(**hint**: np.argsort | np.argpartition)"
      ]
    },
    {
      "cell_type": "code",
      "execution_count": null,
      "metadata": {
        "id": "pwsVo977T9zX",
        "colab": {
          "base_uri": "https://localhost:8080/"
        },
        "outputId": "47a3bb2f-c8fd-45b0-a15d-772d6b6b43e3"
      },
      "outputs": [
        {
          "output_type": "stream",
          "name": "stdout",
          "text": [
            "[9995 9996 9997 9998 9999]\n",
            "[9997 9999 9998 9996 9995]\n"
          ]
        }
      ],
      "source": [
        "Z = np.arange(10000)\n",
        "np.random.shuffle(Z)\n",
        "n = 5\n",
        "\n",
        "# Slow\n",
        "print (Z[np.argsort(Z)[-n:]])\n",
        "\n",
        "\n",
        "# Fast\n",
        "print (Z[np.argpartition(-Z,n)[:n]])\n"
      ]
    },
    {
      "cell_type": "markdown",
      "metadata": {
        "id": "9KXulzIvT9zX"
      },
      "source": [
        "#### 90. Given an arbitrary number of vectors, build the cartesian product (every combinations of every item) (★★★) \n",
        "(**hint**: np.indices)"
      ]
    },
    {
      "cell_type": "code",
      "execution_count": null,
      "metadata": {
        "scrolled": true,
        "id": "sjB0MD5aT9zX",
        "colab": {
          "base_uri": "https://localhost:8080/"
        },
        "outputId": "2e4dd001-6abf-435a-b3d6-28111c41d33a"
      },
      "outputs": [
        {
          "output_type": "stream",
          "name": "stdout",
          "text": [
            "[[1 4 6]\n",
            " [1 4 7]\n",
            " [1 5 6]\n",
            " [1 5 7]\n",
            " [2 4 6]\n",
            " [2 4 7]\n",
            " [2 5 6]\n",
            " [2 5 7]\n",
            " [3 4 6]\n",
            " [3 4 7]\n",
            " [3 5 6]\n",
            " [3 5 7]]\n"
          ]
        }
      ],
      "source": [
        "def cartesian(arrays):\n",
        "    arrays = [np.asarray(a) for a in arrays]\n",
        "    shape = (len(x) for x in arrays)\n",
        "\n",
        "    ix = np.indices(shape, dtype=int)\n",
        "    ix = ix.reshape(len(arrays), -1).T\n",
        "\n",
        "    for n, arr in enumerate(arrays):\n",
        "        ix[:, n] = arrays[n][ix[:, n]]\n",
        "\n",
        "    return ix\n",
        "\n",
        "print (cartesian(([1, 2, 3], [4, 5], [6, 7])))"
      ]
    },
    {
      "cell_type": "markdown",
      "metadata": {
        "id": "5P-sMnD0T9zX"
      },
      "source": [
        "#### 91. How to create a record array from a regular array? (★★★) \n",
        "(**hint**: np.core.records.fromarrays)"
      ]
    },
    {
      "cell_type": "code",
      "execution_count": null,
      "metadata": {
        "id": "oj6pxR1VT9zX",
        "colab": {
          "base_uri": "https://localhost:8080/"
        },
        "outputId": "4ec134d9-2434-4ed9-86b2-63838ca31657"
      },
      "outputs": [
        {
          "output_type": "stream",
          "name": "stdout",
          "text": [
            "[(b'Hello', 2.5, 3) (b'World', 3.6, 2)]\n"
          ]
        }
      ],
      "source": [
        "Z = np.array([(\"Hello\", 2.5, 3),\n",
        "              (\"World\", 3.6, 2)])\n",
        "R = np.core.records.fromarrays(Z.T, \n",
        "                               names='col1, col2, col3',\n",
        "                               formats = 'S8, f8, i8')\n",
        "print(R)"
      ]
    },
    {
      "cell_type": "markdown",
      "metadata": {
        "id": "qxjN1px0T9zY"
      },
      "source": [
        "#### 92. Consider a large vector Z, compute Z to the power of 3 using 3 different methods (★★★) \n",
        "(**hint**: np.power, \\*, np.einsum)"
      ]
    },
    {
      "cell_type": "code",
      "execution_count": null,
      "metadata": {
        "id": "TOFuXTPkT9zY",
        "colab": {
          "base_uri": "https://localhost:8080/",
          "height": 339
        },
        "outputId": "553cca77-738f-44f0-e298-b50a42203c3d"
      },
      "outputs": [
        {
          "output_type": "error",
          "ename": "TypeError",
          "evalue": "ignored",
          "traceback": [
            "\u001b[0;31m---------------------------------------------------------------------------\u001b[0m",
            "\u001b[0;31mTypeError\u001b[0m                                 Traceback (most recent call last)",
            "\u001b[0;32m<ipython-input-138-a370807230cb>\u001b[0m in \u001b[0;36m<module>\u001b[0;34m\u001b[0m\n\u001b[0;32m----> 1\u001b[0;31m \u001b[0mx\u001b[0m \u001b[0;34m=\u001b[0m \u001b[0mnp\u001b[0m\u001b[0;34m.\u001b[0m\u001b[0mrandom\u001b[0m\u001b[0;34m.\u001b[0m\u001b[0mrand\u001b[0m\u001b[0;34m(\u001b[0m\u001b[0;36m5e7\u001b[0m\u001b[0;34m)\u001b[0m\u001b[0;34m\u001b[0m\u001b[0;34m\u001b[0m\u001b[0m\n\u001b[0m\u001b[1;32m      2\u001b[0m \u001b[0;34m\u001b[0m\u001b[0m\n\u001b[1;32m      3\u001b[0m \u001b[0mget_ipython\u001b[0m\u001b[0;34m(\u001b[0m\u001b[0;34m)\u001b[0m\u001b[0;34m.\u001b[0m\u001b[0mrun_line_magic\u001b[0m\u001b[0;34m(\u001b[0m\u001b[0;34m'timeit'\u001b[0m\u001b[0;34m,\u001b[0m \u001b[0;34m'np.power(x,3)'\u001b[0m\u001b[0;34m)\u001b[0m\u001b[0;34m\u001b[0m\u001b[0;34m\u001b[0m\u001b[0m\n\u001b[1;32m      4\u001b[0m \u001b[0mget_ipython\u001b[0m\u001b[0;34m(\u001b[0m\u001b[0;34m)\u001b[0m\u001b[0;34m.\u001b[0m\u001b[0mrun_line_magic\u001b[0m\u001b[0;34m(\u001b[0m\u001b[0;34m'timeit'\u001b[0m\u001b[0;34m,\u001b[0m \u001b[0;34m'x*x*x'\u001b[0m\u001b[0;34m)\u001b[0m\u001b[0;34m\u001b[0m\u001b[0;34m\u001b[0m\u001b[0m\n\u001b[1;32m      5\u001b[0m \u001b[0mget_ipython\u001b[0m\u001b[0;34m(\u001b[0m\u001b[0;34m)\u001b[0m\u001b[0;34m.\u001b[0m\u001b[0mrun_line_magic\u001b[0m\u001b[0;34m(\u001b[0m\u001b[0;34m'timeit'\u001b[0m\u001b[0;34m,\u001b[0m \u001b[0;34m\"np.einsum('i,i,i->i',x,x,x)\"\u001b[0m\u001b[0;34m)\u001b[0m\u001b[0;34m\u001b[0m\u001b[0;34m\u001b[0m\u001b[0m\n",
            "\u001b[0;32mmtrand.pyx\u001b[0m in \u001b[0;36mnumpy.random.mtrand.RandomState.rand\u001b[0;34m()\u001b[0m\n",
            "\u001b[0;32mmtrand.pyx\u001b[0m in \u001b[0;36mnumpy.random.mtrand.RandomState.random_sample\u001b[0;34m()\u001b[0m\n",
            "\u001b[0;32m_common.pyx\u001b[0m in \u001b[0;36mnumpy.random._common.double_fill\u001b[0;34m()\u001b[0m\n",
            "\u001b[0;31mTypeError\u001b[0m: 'float' object cannot be interpreted as an integer"
          ]
        }
      ],
      "source": [
        "x = np.random.rand(5e7)\n",
        "\n",
        "%timeit np.power(x,3)\n",
        "%timeit x*x*x\n",
        "%timeit np.einsum('i,i,i->i',x,x,x)"
      ]
    },
    {
      "cell_type": "markdown",
      "metadata": {
        "id": "hbV3HsM1T9zY"
      },
      "source": [
        "#### 93. Consider two arrays A and B of shape (8,3) and (2,2). How to find rows of A that contain elements of each row of B regardless of the order of the elements in B? (★★★) \n",
        "(**hint**: np.where)"
      ]
    },
    {
      "cell_type": "code",
      "execution_count": null,
      "metadata": {
        "id": "jNmnJUhQT9zY",
        "colab": {
          "base_uri": "https://localhost:8080/"
        },
        "outputId": "ea71696a-5db6-4fbc-c13e-72abe7ef10f8"
      },
      "outputs": [
        {
          "output_type": "stream",
          "name": "stdout",
          "text": [
            "[0 3 4 5 6]\n"
          ]
        }
      ],
      "source": [
        "A = np.random.randint(0,5,(8,3))\n",
        "B = np.random.randint(0,5,(2,2))\n",
        "\n",
        "C = (A[..., np.newaxis, np.newaxis] == B)\n",
        "rows = np.where(C.any((3,1)).all(1))[0]\n",
        "print(rows)"
      ]
    },
    {
      "cell_type": "markdown",
      "metadata": {
        "id": "9pQxT0Y7T9zY"
      },
      "source": [
        "#### 94. Considering a 10x3 matrix, extract rows with unequal values (e.g. \\[2,2,3\\]) (★★★)"
      ]
    },
    {
      "cell_type": "code",
      "execution_count": null,
      "metadata": {
        "id": "YHGIzdXyT9zY",
        "colab": {
          "base_uri": "https://localhost:8080/"
        },
        "outputId": "ebe11a30-773a-4a62-d254-bc869c215c64"
      },
      "outputs": [
        {
          "output_type": "stream",
          "name": "stdout",
          "text": [
            "[[2 3 4]\n",
            " [0 4 4]\n",
            " [2 3 0]\n",
            " [1 4 2]\n",
            " [1 2 4]\n",
            " [4 4 2]\n",
            " [2 3 2]\n",
            " [0 3 3]\n",
            " [4 0 0]\n",
            " [1 3 3]]\n",
            "[[2 3 4]\n",
            " [0 4 4]\n",
            " [2 3 0]\n",
            " [1 4 2]\n",
            " [1 2 4]\n",
            " [4 4 2]\n",
            " [2 3 2]\n",
            " [0 3 3]\n",
            " [4 0 0]\n",
            " [1 3 3]]\n",
            "[[2 3 4]\n",
            " [0 4 4]\n",
            " [2 3 0]\n",
            " [1 4 2]\n",
            " [1 2 4]\n",
            " [4 4 2]\n",
            " [2 3 2]\n",
            " [0 3 3]\n",
            " [4 0 0]\n",
            " [1 3 3]]\n"
          ]
        }
      ],
      "source": [
        "Z = np.random.randint(0,5,(10,3))\n",
        "print(Z)\n",
        "# solution for arrays of all dtypes (including string arrays and record arrays)\n",
        "E = np.all(Z[:,1:] == Z[:,:-1], axis=1)\n",
        "U = Z[~E]\n",
        "print(U)\n",
        "# soluiton for numerical arrays only, will work for any number of columns in Z\n",
        "U = Z[Z.max(axis=1) != Z.min(axis=1),:]\n",
        "print(U)"
      ]
    },
    {
      "cell_type": "markdown",
      "metadata": {
        "id": "F5-q_QPZT9zZ"
      },
      "source": [
        "#### 95. Convert a vector of ints into a matrix binary representation (★★★) \n",
        "(**hint**: np.unpackbits)"
      ]
    },
    {
      "cell_type": "code",
      "execution_count": null,
      "metadata": {
        "id": "vFj2aHTgT9zZ",
        "colab": {
          "base_uri": "https://localhost:8080/"
        },
        "outputId": "9954fecb-2e55-4604-b413-a759015635b7"
      },
      "outputs": [
        {
          "output_type": "stream",
          "name": "stdout",
          "text": [
            "[[0 0 0 0 0 0 0 0]\n",
            " [0 0 0 0 0 0 0 1]\n",
            " [0 0 0 0 0 0 1 0]\n",
            " [0 0 0 0 0 0 1 1]\n",
            " [0 0 0 0 1 1 1 1]\n",
            " [0 0 0 1 0 0 0 0]\n",
            " [0 0 1 0 0 0 0 0]\n",
            " [0 1 0 0 0 0 0 0]\n",
            " [1 0 0 0 0 0 0 0]]\n",
            "[[0 0 0 0 0 0 0 0]\n",
            " [0 0 0 0 0 0 0 1]\n",
            " [0 0 0 0 0 0 1 0]\n",
            " [0 0 0 0 0 0 1 1]\n",
            " [0 0 0 0 1 1 1 1]\n",
            " [0 0 0 1 0 0 0 0]\n",
            " [0 0 1 0 0 0 0 0]\n",
            " [0 1 0 0 0 0 0 0]\n",
            " [1 0 0 0 0 0 0 0]]\n"
          ]
        }
      ],
      "source": [
        "I = np.array([0, 1, 2, 3, 15, 16, 32, 64, 128])\n",
        "B = ((I.reshape(-1,1) & (2**np.arange(8))) != 0).astype(int)\n",
        "print(B[:,::-1])\n",
        "\n",
        "# Author: Daniel T. McDonald\n",
        "\n",
        "I = np.array([0, 1, 2, 3, 15, 16, 32, 64, 128], dtype=np.uint8)\n",
        "print(np.unpackbits(I[:, np.newaxis], axis=1))"
      ]
    },
    {
      "cell_type": "markdown",
      "metadata": {
        "id": "TExi-5ekT9zZ"
      },
      "source": [
        "#### 96. Given a two dimensional array, how to extract unique rows? (★★★) \n",
        "(**hint**: np.ascontiguousarray)"
      ]
    },
    {
      "cell_type": "code",
      "execution_count": null,
      "metadata": {
        "id": "EAdXPaJDT9zZ",
        "colab": {
          "base_uri": "https://localhost:8080/"
        },
        "outputId": "b7c6271e-e15d-4535-c9b4-123732e7c3ed"
      },
      "outputs": [
        {
          "output_type": "stream",
          "name": "stdout",
          "text": [
            "[[0 0 0]\n",
            " [0 0 1]\n",
            " [1 0 0]\n",
            " [1 0 1]\n",
            " [1 1 1]]\n"
          ]
        }
      ],
      "source": [
        "Z = np.random.randint(0,2,(6,3))\n",
        "T = np.ascontiguousarray(Z).view(np.dtype((np.void, Z.dtype.itemsize * Z.shape[1])))\n",
        "_, idx = np.unique(T, return_index=True)\n",
        "uZ = Z[idx]\n",
        "print(uZ)"
      ]
    },
    {
      "cell_type": "markdown",
      "metadata": {
        "id": "ePhTeZj-T9zZ"
      },
      "source": [
        "#### 97. Considering 2 vectors A & B, write the einsum equivalent of inner, outer, sum, and mul function (★★★) \n",
        "(**hint**: np.einsum)"
      ]
    },
    {
      "cell_type": "code",
      "execution_count": null,
      "metadata": {
        "id": "8COuSEiZT9zZ",
        "colab": {
          "base_uri": "https://localhost:8080/"
        },
        "outputId": "efd1a197-9dd5-46b7-ec2a-994fdadbf878"
      },
      "outputs": [
        {
          "output_type": "execute_result",
          "data": {
            "text/plain": [
              "array([[7.75256819e-02, 3.44569556e-01, 1.12259471e-01, 2.79313682e-01,\n",
              "        2.22203645e-01, 7.47245882e-02, 2.25423459e-01, 3.00032940e-01,\n",
              "        6.72790805e-02, 3.48334799e-03],\n",
              "       [2.66958407e-02, 1.18651958e-01, 3.86563636e-02, 9.61812055e-02,\n",
              "        7.65154584e-02, 2.57312887e-02, 7.76241964e-02, 1.03315848e-01,\n",
              "        2.31674404e-02, 1.19948513e-03],\n",
              "       [3.88209950e-02, 1.72543249e-01, 5.62139443e-02, 1.39866361e-01,\n",
              "        1.11268503e-01, 3.74183470e-02, 1.12880826e-01, 1.50241533e-01,\n",
              "        3.36900081e-02, 1.74428695e-03],\n",
              "       [6.36981976e-02, 2.83112113e-01, 9.22368663e-02, 2.29495280e-01,\n",
              "        1.82571392e-01, 6.13967071e-02, 1.85216920e-01, 2.46519051e-01,\n",
              "        5.52791805e-02, 2.86205788e-03],\n",
              "       [6.04197953e-02, 2.68540972e-01, 8.74896432e-02, 2.17683676e-01,\n",
              "        1.73174855e-01, 5.82367573e-02, 1.75684224e-01, 2.33831272e-01,\n",
              "        5.24340860e-02, 2.71475422e-03],\n",
              "       [1.65867599e-01, 7.37212796e-01, 2.40181168e-01, 5.97596673e-01,\n",
              "        4.75408716e-01, 1.59874608e-01, 4.82297568e-01, 6.41925903e-01,\n",
              "        1.43944810e-01, 7.45268603e-03],\n",
              "       [5.96241368e-03, 2.65004600e-02, 8.63375062e-03, 2.14817035e-02,\n",
              "        1.70894343e-02, 5.74698469e-03, 1.73370667e-02, 2.30751986e-02,\n",
              "        5.17435900e-03, 2.67900407e-04],\n",
              "       [1.02345803e-01, 4.54884718e-01, 1.48199737e-01, 3.68736944e-01,\n",
              "        2.93342927e-01, 9.86479294e-02, 2.97593577e-01, 3.96089547e-01,\n",
              "        8.88187161e-02, 4.59855417e-03],\n",
              "       [1.70590893e-01, 7.58205884e-01, 2.47020638e-01, 6.14614011e-01,\n",
              "        4.88946594e-01, 1.64427244e-01, 4.96031615e-01, 6.60205572e-01,\n",
              "        1.48043824e-01, 7.66491089e-03],\n",
              "       [2.12119992e-01, 9.42785534e-01, 3.07155996e-01, 7.64237275e-01,\n",
              "        6.07977049e-01, 2.04455848e-01, 6.16786866e-01, 8.20927767e-01,\n",
              "        1.84084005e-01, 9.53087713e-03]])"
            ]
          },
          "metadata": {},
          "execution_count": 144
        }
      ],
      "source": [
        "A = np.random.uniform(0,1,10)\n",
        "B = np.random.uniform(0,1,10)\n",
        "\n",
        "np.einsum('i->', A)       # np.sum(A)\n",
        "np.einsum('i,i->i', A, B) # A * B\n",
        "np.einsum('i,i', A, B)    # np.inner(A, B)\n",
        "np.einsum('i,j->ij', A, B)    # np.outer(A, B)"
      ]
    },
    {
      "cell_type": "markdown",
      "metadata": {
        "id": "VSHE0Y1LT9za"
      },
      "source": [
        "#### 98. Considering a path described by two vectors (X,Y), how to sample it using equidistant samples (★★★)? \n",
        "(**hint**: np.cumsum, np.interp)"
      ]
    },
    {
      "cell_type": "code",
      "execution_count": null,
      "metadata": {
        "collapsed": true,
        "id": "bMTyNZsvT9za"
      },
      "outputs": [],
      "source": [
        "phi = np.arange(0, 10*np.pi, 0.1)\n",
        "a = 1\n",
        "x = a*phi*np.cos(phi)\n",
        "y = a*phi*np.sin(phi)\n",
        "\n",
        "dr = (np.diff(x)**2 + np.diff(y)**2)**.5 # segment lengths\n",
        "r = np.zeros_like(x)\n",
        "r[1:] = np.cumsum(dr)                # integrate path\n",
        "r_int = np.linspace(0, r.max(), 200) # regular spaced path\n",
        "x_int = np.interp(r_int, r, x)       # integrate path\n",
        "y_int = np.interp(r_int, r, y)"
      ]
    },
    {
      "cell_type": "markdown",
      "metadata": {
        "id": "zQBRISReT9za"
      },
      "source": [
        "#### 99. Given an integer n and a 2D array X, select from X the rows which can be interpreted as draws from a multinomial distribution with n degrees, i.e., the rows which only contain integers and which sum to n. (★★★) \n",
        "(**hint**: np.logical\\_and.reduce, np.mod)"
      ]
    },
    {
      "cell_type": "code",
      "execution_count": null,
      "metadata": {
        "id": "-y2OOT5PT9za",
        "colab": {
          "base_uri": "https://localhost:8080/"
        },
        "outputId": "0196ac22-7136-4b1a-d2d8-c77986524382"
      },
      "outputs": [
        {
          "output_type": "stream",
          "name": "stdout",
          "text": [
            "[[2. 0. 1. 1.]]\n"
          ]
        }
      ],
      "source": [
        "X = np.asarray([[1.0, 0.0, 3.0, 8.0],\n",
        "                [2.0, 0.0, 1.0, 1.0],\n",
        "                [1.5, 2.5, 1.0, 0.0]])\n",
        "n = 4\n",
        "M = np.logical_and.reduce(np.mod(X, 1) == 0, axis=-1)\n",
        "M &= (X.sum(axis=-1) == n)\n",
        "print(X[M])"
      ]
    },
    {
      "cell_type": "markdown",
      "metadata": {
        "id": "xCCRZBc-T9za"
      },
      "source": [
        "#### 100. Compute bootstrapped 95% confidence intervals for the mean of a 1D array X (i.e., resample the elements of an array with replacement N times, compute the mean of each sample, and then compute percentiles over the means). (★★★) \n",
        "(**hint**: np.percentile)"
      ]
    },
    {
      "cell_type": "code",
      "execution_count": null,
      "metadata": {
        "id": "Hib7-1nvT9za",
        "colab": {
          "base_uri": "https://localhost:8080/"
        },
        "outputId": "8c0f6456-fd3e-4401-cbf5-b3235331dd29"
      },
      "outputs": [
        {
          "output_type": "stream",
          "name": "stdout",
          "text": [
            "[-0.17846872  0.25195268]\n"
          ]
        }
      ],
      "source": [
        "X = np.random.randn(100) # random 1D array\n",
        "N = 1000 # number of bootstrap samples\n",
        "idx = np.random.randint(0, X.size, (N, X.size))\n",
        "means = X[idx].mean(axis=1)\n",
        "confint = np.percentile(means, [2.5, 97.5])\n",
        "print(confint)"
      ]
    }
  ],
  "metadata": {
    "kernelspec": {
      "display_name": "Python 3",
      "language": "python",
      "name": "python3"
    },
    "language_info": {
      "codemirror_mode": {
        "name": "ipython",
        "version": 3
      },
      "file_extension": ".py",
      "mimetype": "text/x-python",
      "name": "python",
      "nbconvert_exporter": "python",
      "pygments_lexer": "ipython3",
      "version": "3.8.3"
    },
    "colab": {
      "provenance": [],
      "collapsed_sections": [
        "obDcdBZYT9zI",
        "8lYHajZXT9zI"
      ]
    }
  },
  "nbformat": 4,
  "nbformat_minor": 0
}